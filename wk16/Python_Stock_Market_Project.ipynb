{
 "cells": [
  {
   "cell_type": "markdown",
   "metadata": {},
   "source": [
    "# Trevor O'Connell\n",
    "## Week 16: 12/8/2020\n",
    "### Python Data Cleaning and Visulization Project - Python Stock Market Project"
   ]
  },
  {
   "cell_type": "code",
   "execution_count": 1,
   "metadata": {},
   "outputs": [],
   "source": [
    "import numpy as np\n",
    "from numpy.random import randn\n",
    "import pandas as pd\n",
    "\n",
    "import matplotlib as mpl\n",
    "import matplotlib.pyplot as plt\n",
    "\n",
    "\n",
    "%matplotlib inline"
   ]
  },
  {
   "cell_type": "code",
   "execution_count": 2,
   "metadata": {},
   "outputs": [],
   "source": [
    "# Upload dataset from a csv file\n",
    "data = pd.read_csv('AMZN.csv')"
   ]
  },
  {
   "cell_type": "code",
   "execution_count": 3,
   "metadata": {},
   "outputs": [
    {
     "data": {
      "text/html": [
       "<div>\n",
       "<style scoped>\n",
       "    .dataframe tbody tr th:only-of-type {\n",
       "        vertical-align: middle;\n",
       "    }\n",
       "\n",
       "    .dataframe tbody tr th {\n",
       "        vertical-align: top;\n",
       "    }\n",
       "\n",
       "    .dataframe thead th {\n",
       "        text-align: right;\n",
       "    }\n",
       "</style>\n",
       "<table border=\"1\" class=\"dataframe\">\n",
       "  <thead>\n",
       "    <tr style=\"text-align: right;\">\n",
       "      <th></th>\n",
       "      <th>Date</th>\n",
       "      <th>Source</th>\n",
       "      <th>Open</th>\n",
       "      <th>High</th>\n",
       "      <th>Low</th>\n",
       "      <th>Close</th>\n",
       "      <th>Adj Close</th>\n",
       "      <th>Volume</th>\n",
       "      <th>Stock</th>\n",
       "    </tr>\n",
       "  </thead>\n",
       "  <tbody>\n",
       "    <tr>\n",
       "      <th>0</th>\n",
       "      <td>1/3/2012</td>\n",
       "      <td>yahoo</td>\n",
       "      <td>175.889999</td>\n",
       "      <td>179.479996</td>\n",
       "      <td>175.550003</td>\n",
       "      <td>179.029999</td>\n",
       "      <td>179.029999</td>\n",
       "      <td>5110800</td>\n",
       "      <td>amazon</td>\n",
       "    </tr>\n",
       "    <tr>\n",
       "      <th>1</th>\n",
       "      <td>1/4/2012</td>\n",
       "      <td>yahoo</td>\n",
       "      <td>179.210007</td>\n",
       "      <td>180.500000</td>\n",
       "      <td>176.070007</td>\n",
       "      <td>177.509995</td>\n",
       "      <td>177.509995</td>\n",
       "      <td>4205200</td>\n",
       "      <td>amazon</td>\n",
       "    </tr>\n",
       "    <tr>\n",
       "      <th>2</th>\n",
       "      <td>1/5/2012</td>\n",
       "      <td>yahoo</td>\n",
       "      <td>175.940002</td>\n",
       "      <td>178.250000</td>\n",
       "      <td>174.050003</td>\n",
       "      <td>177.610001</td>\n",
       "      <td>177.610001</td>\n",
       "      <td>3809100</td>\n",
       "      <td>amazon</td>\n",
       "    </tr>\n",
       "    <tr>\n",
       "      <th>3</th>\n",
       "      <td>1/6/2012</td>\n",
       "      <td>yahoo</td>\n",
       "      <td>178.070007</td>\n",
       "      <td>184.649994</td>\n",
       "      <td>177.500000</td>\n",
       "      <td>182.610001</td>\n",
       "      <td>182.610001</td>\n",
       "      <td>7008400</td>\n",
       "      <td>amazon</td>\n",
       "    </tr>\n",
       "    <tr>\n",
       "      <th>4</th>\n",
       "      <td>1/9/2012</td>\n",
       "      <td>yahoo</td>\n",
       "      <td>182.759995</td>\n",
       "      <td>184.369995</td>\n",
       "      <td>177.000000</td>\n",
       "      <td>178.559998</td>\n",
       "      <td>178.559998</td>\n",
       "      <td>5056900</td>\n",
       "      <td>amazon</td>\n",
       "    </tr>\n",
       "    <tr>\n",
       "      <th>5</th>\n",
       "      <td>1/10/2012</td>\n",
       "      <td>yahoo</td>\n",
       "      <td>181.100006</td>\n",
       "      <td>182.399994</td>\n",
       "      <td>177.100006</td>\n",
       "      <td>179.339996</td>\n",
       "      <td>179.339996</td>\n",
       "      <td>3985800</td>\n",
       "      <td>amazon</td>\n",
       "    </tr>\n",
       "    <tr>\n",
       "      <th>6</th>\n",
       "      <td>1/11/2012</td>\n",
       "      <td>yahoo</td>\n",
       "      <td>179.639999</td>\n",
       "      <td>180.770004</td>\n",
       "      <td>178.190002</td>\n",
       "      <td>178.899994</td>\n",
       "      <td>178.899994</td>\n",
       "      <td>3102700</td>\n",
       "      <td>amazon</td>\n",
       "    </tr>\n",
       "    <tr>\n",
       "      <th>7</th>\n",
       "      <td>1/12/2012</td>\n",
       "      <td>yahoo</td>\n",
       "      <td>179.419998</td>\n",
       "      <td>179.490005</td>\n",
       "      <td>175.750000</td>\n",
       "      <td>175.929993</td>\n",
       "      <td>175.929993</td>\n",
       "      <td>5385800</td>\n",
       "      <td>amazon</td>\n",
       "    </tr>\n",
       "    <tr>\n",
       "      <th>8</th>\n",
       "      <td>1/13/2012</td>\n",
       "      <td>yahoo</td>\n",
       "      <td>175.809998</td>\n",
       "      <td>178.800003</td>\n",
       "      <td>173.500000</td>\n",
       "      <td>178.419998</td>\n",
       "      <td>178.419998</td>\n",
       "      <td>4753500</td>\n",
       "      <td>amazon</td>\n",
       "    </tr>\n",
       "    <tr>\n",
       "      <th>9</th>\n",
       "      <td>1/17/2012</td>\n",
       "      <td>yahoo</td>\n",
       "      <td>180.149994</td>\n",
       "      <td>183.300003</td>\n",
       "      <td>178.509995</td>\n",
       "      <td>181.660004</td>\n",
       "      <td>181.660004</td>\n",
       "      <td>5644500</td>\n",
       "      <td>amazon</td>\n",
       "    </tr>\n",
       "  </tbody>\n",
       "</table>\n",
       "</div>"
      ],
      "text/plain": [
       "        Date Source        Open        High         Low       Close  \\\n",
       "0   1/3/2012  yahoo  175.889999  179.479996  175.550003  179.029999   \n",
       "1   1/4/2012  yahoo  179.210007  180.500000  176.070007  177.509995   \n",
       "2   1/5/2012  yahoo  175.940002  178.250000  174.050003  177.610001   \n",
       "3   1/6/2012  yahoo  178.070007  184.649994  177.500000  182.610001   \n",
       "4   1/9/2012  yahoo  182.759995  184.369995  177.000000  178.559998   \n",
       "5  1/10/2012  yahoo  181.100006  182.399994  177.100006  179.339996   \n",
       "6  1/11/2012  yahoo  179.639999  180.770004  178.190002  178.899994   \n",
       "7  1/12/2012  yahoo  179.419998  179.490005  175.750000  175.929993   \n",
       "8  1/13/2012  yahoo  175.809998  178.800003  173.500000  178.419998   \n",
       "9  1/17/2012  yahoo  180.149994  183.300003  178.509995  181.660004   \n",
       "\n",
       "    Adj Close   Volume   Stock  \n",
       "0  179.029999  5110800  amazon  \n",
       "1  177.509995  4205200  amazon  \n",
       "2  177.610001  3809100  amazon  \n",
       "3  182.610001  7008400  amazon  \n",
       "4  178.559998  5056900  amazon  \n",
       "5  179.339996  3985800  amazon  \n",
       "6  178.899994  3102700  amazon  \n",
       "7  175.929993  5385800  amazon  \n",
       "8  178.419998  4753500  amazon  \n",
       "9  181.660004  5644500  amazon  "
      ]
     },
     "execution_count": 3,
     "metadata": {},
     "output_type": "execute_result"
    }
   ],
   "source": [
    "data.head(10)"
   ]
  },
  {
   "cell_type": "code",
   "execution_count": 4,
   "metadata": {},
   "outputs": [
    {
     "data": {
      "text/html": [
       "<div>\n",
       "<style scoped>\n",
       "    .dataframe tbody tr th:only-of-type {\n",
       "        vertical-align: middle;\n",
       "    }\n",
       "\n",
       "    .dataframe tbody tr th {\n",
       "        vertical-align: top;\n",
       "    }\n",
       "\n",
       "    .dataframe thead th {\n",
       "        text-align: right;\n",
       "    }\n",
       "</style>\n",
       "<table border=\"1\" class=\"dataframe\">\n",
       "  <thead>\n",
       "    <tr style=\"text-align: right;\">\n",
       "      <th></th>\n",
       "      <th>Date</th>\n",
       "      <th>Source</th>\n",
       "      <th>Open</th>\n",
       "      <th>High</th>\n",
       "      <th>Low</th>\n",
       "      <th>Close</th>\n",
       "      <th>Adj Close</th>\n",
       "      <th>Volume</th>\n",
       "      <th>Stock</th>\n",
       "    </tr>\n",
       "  </thead>\n",
       "  <tbody>\n",
       "    <tr>\n",
       "      <th>2232</th>\n",
       "      <td>11/13/2020</td>\n",
       "      <td>yahoo</td>\n",
       "      <td>3122.000000</td>\n",
       "      <td>3141.719971</td>\n",
       "      <td>3085.389893</td>\n",
       "      <td>3128.810059</td>\n",
       "      <td>3128.810059</td>\n",
       "      <td>3756200</td>\n",
       "      <td>amazon</td>\n",
       "    </tr>\n",
       "    <tr>\n",
       "      <th>2233</th>\n",
       "      <td>11/16/2020</td>\n",
       "      <td>yahoo</td>\n",
       "      <td>3093.199951</td>\n",
       "      <td>3142.699951</td>\n",
       "      <td>3072.689941</td>\n",
       "      <td>3131.060059</td>\n",
       "      <td>3131.060059</td>\n",
       "      <td>3808700</td>\n",
       "      <td>amazon</td>\n",
       "    </tr>\n",
       "    <tr>\n",
       "      <th>2234</th>\n",
       "      <td>11/17/2020</td>\n",
       "      <td>yahoo</td>\n",
       "      <td>3183.540039</td>\n",
       "      <td>3189.250000</td>\n",
       "      <td>3135.260010</td>\n",
       "      <td>3135.659912</td>\n",
       "      <td>3135.659912</td>\n",
       "      <td>3444700</td>\n",
       "      <td>amazon</td>\n",
       "    </tr>\n",
       "    <tr>\n",
       "      <th>2235</th>\n",
       "      <td>11/18/2020</td>\n",
       "      <td>yahoo</td>\n",
       "      <td>3134.000000</td>\n",
       "      <td>3140.000000</td>\n",
       "      <td>3105.100098</td>\n",
       "      <td>3105.459961</td>\n",
       "      <td>3105.459961</td>\n",
       "      <td>2916800</td>\n",
       "      <td>amazon</td>\n",
       "    </tr>\n",
       "    <tr>\n",
       "      <th>2236</th>\n",
       "      <td>11/19/2020</td>\n",
       "      <td>yahoo</td>\n",
       "      <td>3105.310059</td>\n",
       "      <td>3125.000000</td>\n",
       "      <td>3080.919922</td>\n",
       "      <td>3117.020020</td>\n",
       "      <td>3117.020020</td>\n",
       "      <td>3010300</td>\n",
       "      <td>amazon</td>\n",
       "    </tr>\n",
       "    <tr>\n",
       "      <th>2237</th>\n",
       "      <td>11/20/2020</td>\n",
       "      <td>yahoo</td>\n",
       "      <td>3117.020020</td>\n",
       "      <td>3132.889893</td>\n",
       "      <td>3098.050049</td>\n",
       "      <td>3099.399902</td>\n",
       "      <td>3099.399902</td>\n",
       "      <td>3374400</td>\n",
       "      <td>amazon</td>\n",
       "    </tr>\n",
       "    <tr>\n",
       "      <th>2238</th>\n",
       "      <td>11/23/2020</td>\n",
       "      <td>yahoo</td>\n",
       "      <td>3116.699951</td>\n",
       "      <td>3139.750000</td>\n",
       "      <td>3065.459961</td>\n",
       "      <td>3098.389893</td>\n",
       "      <td>3098.389893</td>\n",
       "      <td>4708900</td>\n",
       "      <td>amazon</td>\n",
       "    </tr>\n",
       "    <tr>\n",
       "      <th>2239</th>\n",
       "      <td>11/24/2020</td>\n",
       "      <td>yahoo</td>\n",
       "      <td>3100.500000</td>\n",
       "      <td>3134.250000</td>\n",
       "      <td>3086.260010</td>\n",
       "      <td>3118.060059</td>\n",
       "      <td>3118.060059</td>\n",
       "      <td>3602100</td>\n",
       "      <td>amazon</td>\n",
       "    </tr>\n",
       "    <tr>\n",
       "      <th>2240</th>\n",
       "      <td>11/25/2020</td>\n",
       "      <td>yahoo</td>\n",
       "      <td>3141.870117</td>\n",
       "      <td>3198.000000</td>\n",
       "      <td>3140.260010</td>\n",
       "      <td>3185.070068</td>\n",
       "      <td>3185.070068</td>\n",
       "      <td>3790400</td>\n",
       "      <td>amazon</td>\n",
       "    </tr>\n",
       "    <tr>\n",
       "      <th>2241</th>\n",
       "      <td>11/27/2020</td>\n",
       "      <td>yahoo</td>\n",
       "      <td>3211.260010</td>\n",
       "      <td>3216.189941</td>\n",
       "      <td>3190.050049</td>\n",
       "      <td>3195.340088</td>\n",
       "      <td>3195.340088</td>\n",
       "      <td>2392900</td>\n",
       "      <td>amazon</td>\n",
       "    </tr>\n",
       "  </tbody>\n",
       "</table>\n",
       "</div>"
      ],
      "text/plain": [
       "            Date Source         Open         High          Low        Close  \\\n",
       "2232  11/13/2020  yahoo  3122.000000  3141.719971  3085.389893  3128.810059   \n",
       "2233  11/16/2020  yahoo  3093.199951  3142.699951  3072.689941  3131.060059   \n",
       "2234  11/17/2020  yahoo  3183.540039  3189.250000  3135.260010  3135.659912   \n",
       "2235  11/18/2020  yahoo  3134.000000  3140.000000  3105.100098  3105.459961   \n",
       "2236  11/19/2020  yahoo  3105.310059  3125.000000  3080.919922  3117.020020   \n",
       "2237  11/20/2020  yahoo  3117.020020  3132.889893  3098.050049  3099.399902   \n",
       "2238  11/23/2020  yahoo  3116.699951  3139.750000  3065.459961  3098.389893   \n",
       "2239  11/24/2020  yahoo  3100.500000  3134.250000  3086.260010  3118.060059   \n",
       "2240  11/25/2020  yahoo  3141.870117  3198.000000  3140.260010  3185.070068   \n",
       "2241  11/27/2020  yahoo  3211.260010  3216.189941  3190.050049  3195.340088   \n",
       "\n",
       "        Adj Close   Volume   Stock  \n",
       "2232  3128.810059  3756200  amazon  \n",
       "2233  3131.060059  3808700  amazon  \n",
       "2234  3135.659912  3444700  amazon  \n",
       "2235  3105.459961  2916800  amazon  \n",
       "2236  3117.020020  3010300  amazon  \n",
       "2237  3099.399902  3374400  amazon  \n",
       "2238  3098.389893  4708900  amazon  \n",
       "2239  3118.060059  3602100  amazon  \n",
       "2240  3185.070068  3790400  amazon  \n",
       "2241  3195.340088  2392900  amazon  "
      ]
     },
     "execution_count": 4,
     "metadata": {},
     "output_type": "execute_result"
    }
   ],
   "source": [
    "data.tail(10)"
   ]
  },
  {
   "cell_type": "code",
   "execution_count": 5,
   "metadata": {},
   "outputs": [
    {
     "data": {
      "text/html": [
       "<div>\n",
       "<style scoped>\n",
       "    .dataframe tbody tr th:only-of-type {\n",
       "        vertical-align: middle;\n",
       "    }\n",
       "\n",
       "    .dataframe tbody tr th {\n",
       "        vertical-align: top;\n",
       "    }\n",
       "\n",
       "    .dataframe thead th {\n",
       "        text-align: right;\n",
       "    }\n",
       "</style>\n",
       "<table border=\"1\" class=\"dataframe\">\n",
       "  <thead>\n",
       "    <tr style=\"text-align: right;\">\n",
       "      <th></th>\n",
       "      <th>Open</th>\n",
       "      <th>High</th>\n",
       "      <th>Low</th>\n",
       "      <th>Close</th>\n",
       "      <th>Adj Close</th>\n",
       "      <th>Volume</th>\n",
       "    </tr>\n",
       "  </thead>\n",
       "  <tbody>\n",
       "    <tr>\n",
       "      <th>count</th>\n",
       "      <td>2241.000000</td>\n",
       "      <td>2240.000000</td>\n",
       "      <td>2242.000000</td>\n",
       "      <td>2239.000000</td>\n",
       "      <td>2241.000000</td>\n",
       "      <td>2.242000e+03</td>\n",
       "    </tr>\n",
       "    <tr>\n",
       "      <th>mean</th>\n",
       "      <td>991.401419</td>\n",
       "      <td>1002.190218</td>\n",
       "      <td>979.221717</td>\n",
       "      <td>991.895355</td>\n",
       "      <td>991.190696</td>\n",
       "      <td>4.118187e+06</td>\n",
       "    </tr>\n",
       "    <tr>\n",
       "      <th>std</th>\n",
       "      <td>802.269032</td>\n",
       "      <td>811.968123</td>\n",
       "      <td>790.843600</td>\n",
       "      <td>801.664757</td>\n",
       "      <td>801.654109</td>\n",
       "      <td>2.278888e+06</td>\n",
       "    </tr>\n",
       "    <tr>\n",
       "      <th>min</th>\n",
       "      <td>173.809998</td>\n",
       "      <td>178.250000</td>\n",
       "      <td>172.000000</td>\n",
       "      <td>175.929993</td>\n",
       "      <td>175.929993</td>\n",
       "      <td>0.000000e+00</td>\n",
       "    </tr>\n",
       "    <tr>\n",
       "      <th>25%</th>\n",
       "      <td>320.359985</td>\n",
       "      <td>323.687500</td>\n",
       "      <td>315.807487</td>\n",
       "      <td>321.385010</td>\n",
       "      <td>320.510010</td>\n",
       "      <td>2.688550e+06</td>\n",
       "    </tr>\n",
       "    <tr>\n",
       "      <th>50%</th>\n",
       "      <td>717.380005</td>\n",
       "      <td>723.394989</td>\n",
       "      <td>712.629975</td>\n",
       "      <td>719.299988</td>\n",
       "      <td>719.070007</td>\n",
       "      <td>3.528700e+06</td>\n",
       "    </tr>\n",
       "    <tr>\n",
       "      <th>75%</th>\n",
       "      <td>1660.000000</td>\n",
       "      <td>1679.964966</td>\n",
       "      <td>1633.707459</td>\n",
       "      <td>1661.830017</td>\n",
       "      <td>1660.510010</td>\n",
       "      <td>4.839800e+06</td>\n",
       "    </tr>\n",
       "    <tr>\n",
       "      <th>max</th>\n",
       "      <td>3547.000000</td>\n",
       "      <td>3552.250000</td>\n",
       "      <td>3486.689941</td>\n",
       "      <td>3531.449951</td>\n",
       "      <td>3531.449951</td>\n",
       "      <td>2.385610e+07</td>\n",
       "    </tr>\n",
       "  </tbody>\n",
       "</table>\n",
       "</div>"
      ],
      "text/plain": [
       "              Open         High          Low        Close    Adj Close  \\\n",
       "count  2241.000000  2240.000000  2242.000000  2239.000000  2241.000000   \n",
       "mean    991.401419  1002.190218   979.221717   991.895355   991.190696   \n",
       "std     802.269032   811.968123   790.843600   801.664757   801.654109   \n",
       "min     173.809998   178.250000   172.000000   175.929993   175.929993   \n",
       "25%     320.359985   323.687500   315.807487   321.385010   320.510010   \n",
       "50%     717.380005   723.394989   712.629975   719.299988   719.070007   \n",
       "75%    1660.000000  1679.964966  1633.707459  1661.830017  1660.510010   \n",
       "max    3547.000000  3552.250000  3486.689941  3531.449951  3531.449951   \n",
       "\n",
       "             Volume  \n",
       "count  2.242000e+03  \n",
       "mean   4.118187e+06  \n",
       "std    2.278888e+06  \n",
       "min    0.000000e+00  \n",
       "25%    2.688550e+06  \n",
       "50%    3.528700e+06  \n",
       "75%    4.839800e+06  \n",
       "max    2.385610e+07  "
      ]
     },
     "execution_count": 5,
     "metadata": {},
     "output_type": "execute_result"
    }
   ],
   "source": [
    "data.describe()"
   ]
  },
  {
   "cell_type": "code",
   "execution_count": 6,
   "metadata": {},
   "outputs": [
    {
     "name": "stdout",
     "output_type": "stream",
     "text": [
      "<class 'pandas.core.frame.DataFrame'>\n",
      "RangeIndex: 2242 entries, 0 to 2241\n",
      "Data columns (total 9 columns):\n",
      " #   Column     Non-Null Count  Dtype  \n",
      "---  ------     --------------  -----  \n",
      " 0   Date       2242 non-null   object \n",
      " 1   Source     2242 non-null   object \n",
      " 2   Open       2241 non-null   float64\n",
      " 3   High       2240 non-null   float64\n",
      " 4   Low        2242 non-null   float64\n",
      " 5   Close      2239 non-null   float64\n",
      " 6   Adj Close  2241 non-null   float64\n",
      " 7   Volume     2242 non-null   int64  \n",
      " 8   Stock      2242 non-null   object \n",
      "dtypes: float64(5), int64(1), object(3)\n",
      "memory usage: 157.8+ KB\n"
     ]
    }
   ],
   "source": [
    "data.info()"
   ]
  },
  {
   "cell_type": "code",
   "execution_count": 7,
   "metadata": {},
   "outputs": [
    {
     "data": {
      "text/plain": [
       "<matplotlib.axes._subplots.AxesSubplot at 0x2e6c876dd48>"
      ]
     },
     "execution_count": 7,
     "metadata": {},
     "output_type": "execute_result"
    },
    {
     "data": {
      "image/png": "[encoded data removed]",
      "text/plain": [
       "<Figure size 720x288 with 1 Axes>"
      ]
     },
     "metadata": {
      "needs_background": "light"
     },
     "output_type": "display_data"
    }
   ],
   "source": [
    "data['Adj Close'].plot(legend=True, figsize=(10,4))"
   ]
  },
  {
   "cell_type": "code",
   "execution_count": 8,
   "metadata": {},
   "outputs": [
    {
     "data": {
      "text/plain": [
       "Index(['Date', 'Source', 'Open', 'High', 'Low', 'Close', 'Adj Close', 'Volume',\n",
       "       'Stock'],\n",
       "      dtype='object')"
      ]
     },
     "execution_count": 8,
     "metadata": {},
     "output_type": "execute_result"
    }
   ],
   "source": [
    "data.columns"
   ]
  },
  {
   "cell_type": "code",
   "execution_count": 9,
   "metadata": {},
   "outputs": [
    {
     "data": {
      "text/plain": [
       "9"
      ]
     },
     "execution_count": 9,
     "metadata": {},
     "output_type": "execute_result"
    }
   ],
   "source": [
    "len(data.columns)"
   ]
  },
  {
   "cell_type": "code",
   "execution_count": 10,
   "metadata": {},
   "outputs": [
    {
     "name": "stdout",
     "output_type": "stream",
     "text": [
      "numerical variables:  6 non-numerical variables:  3\n"
     ]
    }
   ],
   "source": [
    "# Count the number of numerical and non-numerical variables (columns)\n",
    "from pandas.api.types import is_numeric_dtype\n",
    "\n",
    "n=0\n",
    "\n",
    "for c in data.columns:\n",
    "    if is_numeric_dtype(data[c]):\n",
    "        n+=1\n",
    "        \n",
    "print('numerical variables: ', n, 'non-numerical variables: ', len(data.columns)-n)"
   ]
  },
  {
   "cell_type": "code",
   "execution_count": 11,
   "metadata": {},
   "outputs": [
    {
     "data": {
      "text/plain": [
       "Date         0\n",
       "Source       0\n",
       "Open         1\n",
       "High         2\n",
       "Low          0\n",
       "Close        3\n",
       "Adj Close    1\n",
       "Volume       0\n",
       "Stock        0\n",
       "dtype: int64"
      ]
     },
     "execution_count": 11,
     "metadata": {},
     "output_type": "execute_result"
    }
   ],
   "source": [
    "# Number of missing values in each row\n",
    "data.isnull().sum()"
   ]
  },
  {
   "cell_type": "code",
   "execution_count": 12,
   "metadata": {},
   "outputs": [
    {
     "data": {
      "text/html": [
       "<div>\n",
       "<style scoped>\n",
       "    .dataframe tbody tr th:only-of-type {\n",
       "        vertical-align: middle;\n",
       "    }\n",
       "\n",
       "    .dataframe tbody tr th {\n",
       "        vertical-align: top;\n",
       "    }\n",
       "\n",
       "    .dataframe thead th {\n",
       "        text-align: right;\n",
       "    }\n",
       "</style>\n",
       "<table border=\"1\" class=\"dataframe\">\n",
       "  <thead>\n",
       "    <tr style=\"text-align: right;\">\n",
       "      <th></th>\n",
       "      <th>Date</th>\n",
       "      <th>Source</th>\n",
       "      <th>Open</th>\n",
       "      <th>High</th>\n",
       "      <th>Low</th>\n",
       "      <th>Close</th>\n",
       "      <th>Adj Close</th>\n",
       "      <th>Volume</th>\n",
       "      <th>Stock</th>\n",
       "    </tr>\n",
       "  </thead>\n",
       "  <tbody>\n",
       "    <tr>\n",
       "      <th>0</th>\n",
       "      <td>False</td>\n",
       "      <td>False</td>\n",
       "      <td>False</td>\n",
       "      <td>False</td>\n",
       "      <td>False</td>\n",
       "      <td>False</td>\n",
       "      <td>False</td>\n",
       "      <td>False</td>\n",
       "      <td>False</td>\n",
       "    </tr>\n",
       "    <tr>\n",
       "      <th>1</th>\n",
       "      <td>False</td>\n",
       "      <td>False</td>\n",
       "      <td>False</td>\n",
       "      <td>False</td>\n",
       "      <td>False</td>\n",
       "      <td>False</td>\n",
       "      <td>False</td>\n",
       "      <td>False</td>\n",
       "      <td>False</td>\n",
       "    </tr>\n",
       "    <tr>\n",
       "      <th>2</th>\n",
       "      <td>False</td>\n",
       "      <td>False</td>\n",
       "      <td>False</td>\n",
       "      <td>False</td>\n",
       "      <td>False</td>\n",
       "      <td>False</td>\n",
       "      <td>False</td>\n",
       "      <td>False</td>\n",
       "      <td>False</td>\n",
       "    </tr>\n",
       "    <tr>\n",
       "      <th>3</th>\n",
       "      <td>False</td>\n",
       "      <td>False</td>\n",
       "      <td>False</td>\n",
       "      <td>False</td>\n",
       "      <td>False</td>\n",
       "      <td>False</td>\n",
       "      <td>False</td>\n",
       "      <td>False</td>\n",
       "      <td>False</td>\n",
       "    </tr>\n",
       "    <tr>\n",
       "      <th>4</th>\n",
       "      <td>False</td>\n",
       "      <td>False</td>\n",
       "      <td>False</td>\n",
       "      <td>False</td>\n",
       "      <td>False</td>\n",
       "      <td>False</td>\n",
       "      <td>False</td>\n",
       "      <td>False</td>\n",
       "      <td>False</td>\n",
       "    </tr>\n",
       "    <tr>\n",
       "      <th>...</th>\n",
       "      <td>...</td>\n",
       "      <td>...</td>\n",
       "      <td>...</td>\n",
       "      <td>...</td>\n",
       "      <td>...</td>\n",
       "      <td>...</td>\n",
       "      <td>...</td>\n",
       "      <td>...</td>\n",
       "      <td>...</td>\n",
       "    </tr>\n",
       "    <tr>\n",
       "      <th>2237</th>\n",
       "      <td>False</td>\n",
       "      <td>False</td>\n",
       "      <td>False</td>\n",
       "      <td>False</td>\n",
       "      <td>False</td>\n",
       "      <td>False</td>\n",
       "      <td>False</td>\n",
       "      <td>False</td>\n",
       "      <td>False</td>\n",
       "    </tr>\n",
       "    <tr>\n",
       "      <th>2238</th>\n",
       "      <td>False</td>\n",
       "      <td>False</td>\n",
       "      <td>False</td>\n",
       "      <td>False</td>\n",
       "      <td>False</td>\n",
       "      <td>False</td>\n",
       "      <td>False</td>\n",
       "      <td>False</td>\n",
       "      <td>False</td>\n",
       "    </tr>\n",
       "    <tr>\n",
       "      <th>2239</th>\n",
       "      <td>False</td>\n",
       "      <td>False</td>\n",
       "      <td>False</td>\n",
       "      <td>False</td>\n",
       "      <td>False</td>\n",
       "      <td>False</td>\n",
       "      <td>False</td>\n",
       "      <td>False</td>\n",
       "      <td>False</td>\n",
       "    </tr>\n",
       "    <tr>\n",
       "      <th>2240</th>\n",
       "      <td>False</td>\n",
       "      <td>False</td>\n",
       "      <td>False</td>\n",
       "      <td>False</td>\n",
       "      <td>False</td>\n",
       "      <td>False</td>\n",
       "      <td>False</td>\n",
       "      <td>False</td>\n",
       "      <td>False</td>\n",
       "    </tr>\n",
       "    <tr>\n",
       "      <th>2241</th>\n",
       "      <td>False</td>\n",
       "      <td>False</td>\n",
       "      <td>False</td>\n",
       "      <td>False</td>\n",
       "      <td>False</td>\n",
       "      <td>False</td>\n",
       "      <td>False</td>\n",
       "      <td>False</td>\n",
       "      <td>False</td>\n",
       "    </tr>\n",
       "  </tbody>\n",
       "</table>\n",
       "<p>2242 rows × 9 columns</p>\n",
       "</div>"
      ],
      "text/plain": [
       "       Date  Source   Open   High    Low  Close  Adj Close  Volume  Stock\n",
       "0     False   False  False  False  False  False      False   False  False\n",
       "1     False   False  False  False  False  False      False   False  False\n",
       "2     False   False  False  False  False  False      False   False  False\n",
       "3     False   False  False  False  False  False      False   False  False\n",
       "4     False   False  False  False  False  False      False   False  False\n",
       "...     ...     ...    ...    ...    ...    ...        ...     ...    ...\n",
       "2237  False   False  False  False  False  False      False   False  False\n",
       "2238  False   False  False  False  False  False      False   False  False\n",
       "2239  False   False  False  False  False  False      False   False  False\n",
       "2240  False   False  False  False  False  False      False   False  False\n",
       "2241  False   False  False  False  False  False      False   False  False\n",
       "\n",
       "[2242 rows x 9 columns]"
      ]
     },
     "execution_count": 12,
     "metadata": {},
     "output_type": "execute_result"
    }
   ],
   "source": [
    "data.isnull()"
   ]
  },
  {
   "cell_type": "code",
   "execution_count": 13,
   "metadata": {},
   "outputs": [
    {
     "data": {
      "text/plain": [
       "Date         0\n",
       "Source       0\n",
       "Open         1\n",
       "High         2\n",
       "Low          0\n",
       "Close        3\n",
       "Adj Close    1\n",
       "Volume       0\n",
       "Stock        0\n",
       "dtype: int64"
      ]
     },
     "execution_count": 13,
     "metadata": {},
     "output_type": "execute_result"
    }
   ],
   "source": [
    "data.isnull().sum()"
   ]
  },
  {
   "cell_type": "code",
   "execution_count": 14,
   "metadata": {},
   "outputs": [],
   "source": [
    "# handling missing data\n",
    "data.dropna(inplace=True)"
   ]
  },
  {
   "cell_type": "code",
   "execution_count": 15,
   "metadata": {},
   "outputs": [
    {
     "data": {
      "text/plain": [
       "Date         0\n",
       "Source       0\n",
       "Open         0\n",
       "High         0\n",
       "Low          0\n",
       "Close        0\n",
       "Adj Close    0\n",
       "Volume       0\n",
       "Stock        0\n",
       "dtype: int64"
      ]
     },
     "execution_count": 15,
     "metadata": {},
     "output_type": "execute_result"
    }
   ],
   "source": [
    "data.isnull().sum()"
   ]
  },
  {
   "cell_type": "code",
   "execution_count": 16,
   "metadata": {},
   "outputs": [
    {
     "name": "stdout",
     "output_type": "stream",
     "text": [
      "<class 'pandas.core.frame.DataFrame'>\n",
      "Int64Index: 2235 entries, 0 to 2241\n",
      "Data columns (total 9 columns):\n",
      " #   Column     Non-Null Count  Dtype  \n",
      "---  ------     --------------  -----  \n",
      " 0   Date       2235 non-null   object \n",
      " 1   Source     2235 non-null   object \n",
      " 2   Open       2235 non-null   float64\n",
      " 3   High       2235 non-null   float64\n",
      " 4   Low        2235 non-null   float64\n",
      " 5   Close      2235 non-null   float64\n",
      " 6   Adj Close  2235 non-null   float64\n",
      " 7   Volume     2235 non-null   int64  \n",
      " 8   Stock      2235 non-null   object \n",
      "dtypes: float64(5), int64(1), object(3)\n",
      "memory usage: 174.6+ KB\n"
     ]
    }
   ],
   "source": [
    "data.info()"
   ]
  },
  {
   "cell_type": "code",
   "execution_count": 17,
   "metadata": {},
   "outputs": [
    {
     "data": {
      "text/plain": [
       "<matplotlib.axes._subplots.AxesSubplot at 0x2e6c8ad0ec8>"
      ]
     },
     "execution_count": 17,
     "metadata": {},
     "output_type": "execute_result"
    },
    {
     "data": {
      "image/png": "[encoded data removed]",
      "text/plain": [
       "<Figure size 432x288 with 1 Axes>"
      ]
     },
     "metadata": {
      "needs_background": "light"
     },
     "output_type": "display_data"
    }
   ],
   "source": [
    "#Clean abnormal Values\n",
    "data['Volume'].plot(kind='hist',bins=50)"
   ]
  },
  {
   "cell_type": "code",
   "execution_count": 18,
   "metadata": {},
   "outputs": [
    {
     "data": {
      "text/plain": [
       "<matplotlib.axes._subplots.AxesSubplot at 0x2e6c8bbc3c8>"
      ]
     },
     "execution_count": 18,
     "metadata": {},
     "output_type": "execute_result"
    },
    {
     "data": {
      "image/png": "[encoded data removed]",
      "text/plain": [
       "<Figure size 432x288 with 1 Axes>"
      ]
     },
     "metadata": {
      "needs_background": "light"
     },
     "output_type": "display_data"
    }
   ],
   "source": [
    "data['Volume'].plot(kind='hist',bins=100)"
   ]
  },
  {
   "cell_type": "code",
   "execution_count": 19,
   "metadata": {},
   "outputs": [
    {
     "data": {
      "text/plain": [
       "0"
      ]
     },
     "execution_count": 19,
     "metadata": {},
     "output_type": "execute_result"
    }
   ],
   "source": [
    "data['Volume'].min()"
   ]
  },
  {
   "cell_type": "code",
   "execution_count": 20,
   "metadata": {},
   "outputs": [
    {
     "data": {
      "text/plain": [
       "23856100"
      ]
     },
     "execution_count": 20,
     "metadata": {},
     "output_type": "execute_result"
    }
   ],
   "source": [
    "data['Volume'].max()"
   ]
  },
  {
   "cell_type": "code",
   "execution_count": 21,
   "metadata": {},
   "outputs": [
    {
     "data": {
      "text/plain": [
       "29            0\n",
       "114           1\n",
       "18            5\n",
       "161           6\n",
       "47           23\n",
       "90           25\n",
       "66           78\n",
       "2007     881300\n",
       "245      984400\n",
       "1001    1091200\n",
       "126     1331700\n",
       "879     1343400\n",
       "426     1350600\n",
       "376     1373000\n",
       "497     1380400\n",
       "405     1415000\n",
       "411     1422600\n",
       "415     1457100\n",
       "1164    1458800\n",
       "403     1504500\n",
       "Name: Volume, dtype: int64"
      ]
     },
     "execution_count": 21,
     "metadata": {},
     "output_type": "execute_result"
    }
   ],
   "source": [
    "data['Volume'].sort_values(ascending=True).head(20)"
   ]
  },
  {
   "cell_type": "code",
   "execution_count": 22,
   "metadata": {},
   "outputs": [
    {
     "data": {
      "text/plain": [
       "(2228, 9)"
      ]
     },
     "execution_count": 22,
     "metadata": {},
     "output_type": "execute_result"
    }
   ],
   "source": [
    "# We remove the volume entries with extreme low values (values < 100,000)\n",
    "data=data[data['Volume']>100000]\n",
    "data.shape"
   ]
  },
  {
   "cell_type": "code",
   "execution_count": 23,
   "metadata": {},
   "outputs": [
    {
     "data": {
      "text/plain": [
       "2007     881300\n",
       "245      984400\n",
       "1001    1091200\n",
       "126     1331700\n",
       "879     1343400\n",
       "426     1350600\n",
       "376     1373000\n",
       "497     1380400\n",
       "405     1415000\n",
       "411     1422600\n",
       "415     1457100\n",
       "1164    1458800\n",
       "403     1504500\n",
       "749     1513800\n",
       "1167    1524100\n",
       "151     1534300\n",
       "417     1534700\n",
       "152     1548100\n",
       "1160    1563300\n",
       "416     1566400\n",
       "Name: Volume, dtype: int64"
      ]
     },
     "execution_count": 23,
     "metadata": {},
     "output_type": "execute_result"
    }
   ],
   "source": [
    "data['Volume'].sort_values(ascending=True).head(20)"
   ]
  },
  {
   "cell_type": "code",
   "execution_count": 24,
   "metadata": {},
   "outputs": [
    {
     "data": {
      "text/html": [
       "<div>\n",
       "<style scoped>\n",
       "    .dataframe tbody tr th:only-of-type {\n",
       "        vertical-align: middle;\n",
       "    }\n",
       "\n",
       "    .dataframe tbody tr th {\n",
       "        vertical-align: top;\n",
       "    }\n",
       "\n",
       "    .dataframe thead th {\n",
       "        text-align: right;\n",
       "    }\n",
       "</style>\n",
       "<table border=\"1\" class=\"dataframe\">\n",
       "  <thead>\n",
       "    <tr style=\"text-align: right;\">\n",
       "      <th></th>\n",
       "      <th>Date</th>\n",
       "      <th>Source</th>\n",
       "      <th>Open</th>\n",
       "      <th>High</th>\n",
       "      <th>Low</th>\n",
       "      <th>Close</th>\n",
       "      <th>Adj Close</th>\n",
       "      <th>Volume</th>\n",
       "      <th>Stock</th>\n",
       "    </tr>\n",
       "  </thead>\n",
       "  <tbody>\n",
       "    <tr>\n",
       "      <th>0</th>\n",
       "      <td>1/3/2012</td>\n",
       "      <td>yahoo</td>\n",
       "      <td>175.889999</td>\n",
       "      <td>179.479996</td>\n",
       "      <td>175.550003</td>\n",
       "      <td>179.029999</td>\n",
       "      <td>179.029999</td>\n",
       "      <td>5110800</td>\n",
       "      <td>amazon</td>\n",
       "    </tr>\n",
       "    <tr>\n",
       "      <th>1</th>\n",
       "      <td>1/4/2012</td>\n",
       "      <td>yahoo</td>\n",
       "      <td>179.210007</td>\n",
       "      <td>180.500000</td>\n",
       "      <td>176.070007</td>\n",
       "      <td>177.509995</td>\n",
       "      <td>177.509995</td>\n",
       "      <td>4205200</td>\n",
       "      <td>amazon</td>\n",
       "    </tr>\n",
       "    <tr>\n",
       "      <th>2</th>\n",
       "      <td>1/5/2012</td>\n",
       "      <td>yahoo</td>\n",
       "      <td>175.940002</td>\n",
       "      <td>178.250000</td>\n",
       "      <td>174.050003</td>\n",
       "      <td>177.610001</td>\n",
       "      <td>177.610001</td>\n",
       "      <td>3809100</td>\n",
       "      <td>amazon</td>\n",
       "    </tr>\n",
       "    <tr>\n",
       "      <th>3</th>\n",
       "      <td>1/6/2012</td>\n",
       "      <td>yahoo</td>\n",
       "      <td>178.070007</td>\n",
       "      <td>184.649994</td>\n",
       "      <td>177.500000</td>\n",
       "      <td>182.610001</td>\n",
       "      <td>182.610001</td>\n",
       "      <td>7008400</td>\n",
       "      <td>amazon</td>\n",
       "    </tr>\n",
       "    <tr>\n",
       "      <th>4</th>\n",
       "      <td>1/9/2012</td>\n",
       "      <td>yahoo</td>\n",
       "      <td>182.759995</td>\n",
       "      <td>184.369995</td>\n",
       "      <td>177.000000</td>\n",
       "      <td>178.559998</td>\n",
       "      <td>178.559998</td>\n",
       "      <td>5056900</td>\n",
       "      <td>amazon</td>\n",
       "    </tr>\n",
       "    <tr>\n",
       "      <th>5</th>\n",
       "      <td>1/10/2012</td>\n",
       "      <td>yahoo</td>\n",
       "      <td>181.100006</td>\n",
       "      <td>182.399994</td>\n",
       "      <td>177.100006</td>\n",
       "      <td>179.339996</td>\n",
       "      <td>179.339996</td>\n",
       "      <td>3985800</td>\n",
       "      <td>amazon</td>\n",
       "    </tr>\n",
       "    <tr>\n",
       "      <th>6</th>\n",
       "      <td>1/11/2012</td>\n",
       "      <td>yahoo</td>\n",
       "      <td>179.639999</td>\n",
       "      <td>180.770004</td>\n",
       "      <td>178.190002</td>\n",
       "      <td>178.899994</td>\n",
       "      <td>178.899994</td>\n",
       "      <td>3102700</td>\n",
       "      <td>amazon</td>\n",
       "    </tr>\n",
       "    <tr>\n",
       "      <th>7</th>\n",
       "      <td>1/12/2012</td>\n",
       "      <td>yahoo</td>\n",
       "      <td>179.419998</td>\n",
       "      <td>179.490005</td>\n",
       "      <td>175.750000</td>\n",
       "      <td>175.929993</td>\n",
       "      <td>175.929993</td>\n",
       "      <td>5385800</td>\n",
       "      <td>amazon</td>\n",
       "    </tr>\n",
       "    <tr>\n",
       "      <th>8</th>\n",
       "      <td>1/13/2012</td>\n",
       "      <td>yahoo</td>\n",
       "      <td>175.809998</td>\n",
       "      <td>178.800003</td>\n",
       "      <td>173.500000</td>\n",
       "      <td>178.419998</td>\n",
       "      <td>178.419998</td>\n",
       "      <td>4753500</td>\n",
       "      <td>amazon</td>\n",
       "    </tr>\n",
       "    <tr>\n",
       "      <th>9</th>\n",
       "      <td>1/17/2012</td>\n",
       "      <td>yahoo</td>\n",
       "      <td>180.149994</td>\n",
       "      <td>183.300003</td>\n",
       "      <td>178.509995</td>\n",
       "      <td>181.660004</td>\n",
       "      <td>181.660004</td>\n",
       "      <td>5644500</td>\n",
       "      <td>amazon</td>\n",
       "    </tr>\n",
       "    <tr>\n",
       "      <th>10</th>\n",
       "      <td>1/18/2012</td>\n",
       "      <td>yahoo</td>\n",
       "      <td>181.940002</td>\n",
       "      <td>190.250000</td>\n",
       "      <td>181.119995</td>\n",
       "      <td>189.440002</td>\n",
       "      <td>189.440002</td>\n",
       "      <td>7473500</td>\n",
       "      <td>amazon</td>\n",
       "    </tr>\n",
       "    <tr>\n",
       "      <th>11</th>\n",
       "      <td>1/19/2012</td>\n",
       "      <td>yahoo</td>\n",
       "      <td>190.880005</td>\n",
       "      <td>195.940002</td>\n",
       "      <td>190.360001</td>\n",
       "      <td>194.449997</td>\n",
       "      <td>194.449997</td>\n",
       "      <td>7096000</td>\n",
       "      <td>amazon</td>\n",
       "    </tr>\n",
       "    <tr>\n",
       "      <th>12</th>\n",
       "      <td>1/20/2012</td>\n",
       "      <td>yahoo</td>\n",
       "      <td>190.710007</td>\n",
       "      <td>192.899994</td>\n",
       "      <td>189.039993</td>\n",
       "      <td>190.929993</td>\n",
       "      <td>190.929993</td>\n",
       "      <td>5610300</td>\n",
       "      <td>amazon</td>\n",
       "    </tr>\n",
       "    <tr>\n",
       "      <th>13</th>\n",
       "      <td>1/23/2012</td>\n",
       "      <td>yahoo</td>\n",
       "      <td>190.789993</td>\n",
       "      <td>191.729996</td>\n",
       "      <td>185.229996</td>\n",
       "      <td>186.089996</td>\n",
       "      <td>186.089996</td>\n",
       "      <td>4585300</td>\n",
       "      <td>amazon</td>\n",
       "    </tr>\n",
       "    <tr>\n",
       "      <th>15</th>\n",
       "      <td>1/25/2012</td>\n",
       "      <td>yahoo</td>\n",
       "      <td>186.990005</td>\n",
       "      <td>188.169998</td>\n",
       "      <td>184.610001</td>\n",
       "      <td>187.800003</td>\n",
       "      <td>187.800003</td>\n",
       "      <td>4306400</td>\n",
       "      <td>amazon</td>\n",
       "    </tr>\n",
       "    <tr>\n",
       "      <th>16</th>\n",
       "      <td>1/26/2012</td>\n",
       "      <td>yahoo</td>\n",
       "      <td>189.300003</td>\n",
       "      <td>194.850006</td>\n",
       "      <td>188.729996</td>\n",
       "      <td>193.320007</td>\n",
       "      <td>193.320007</td>\n",
       "      <td>5873600</td>\n",
       "      <td>amazon</td>\n",
       "    </tr>\n",
       "    <tr>\n",
       "      <th>17</th>\n",
       "      <td>1/27/2012</td>\n",
       "      <td>yahoo</td>\n",
       "      <td>193.089996</td>\n",
       "      <td>196.500000</td>\n",
       "      <td>192.330002</td>\n",
       "      <td>195.369995</td>\n",
       "      <td>195.369995</td>\n",
       "      <td>4659000</td>\n",
       "      <td>amazon</td>\n",
       "    </tr>\n",
       "    <tr>\n",
       "      <th>19</th>\n",
       "      <td>1/31/2012</td>\n",
       "      <td>yahoo</td>\n",
       "      <td>194.000000</td>\n",
       "      <td>195.630005</td>\n",
       "      <td>189.699997</td>\n",
       "      <td>194.440002</td>\n",
       "      <td>194.440002</td>\n",
       "      <td>12772200</td>\n",
       "      <td>amazon</td>\n",
       "    </tr>\n",
       "    <tr>\n",
       "      <th>20</th>\n",
       "      <td>2/1/2012</td>\n",
       "      <td>yahoo</td>\n",
       "      <td>173.809998</td>\n",
       "      <td>179.949997</td>\n",
       "      <td>172.000000</td>\n",
       "      <td>179.460007</td>\n",
       "      <td>179.460007</td>\n",
       "      <td>21336600</td>\n",
       "      <td>amazon</td>\n",
       "    </tr>\n",
       "    <tr>\n",
       "      <th>21</th>\n",
       "      <td>2/2/2012</td>\n",
       "      <td>yahoo</td>\n",
       "      <td>179.649994</td>\n",
       "      <td>181.940002</td>\n",
       "      <td>176.800003</td>\n",
       "      <td>181.720001</td>\n",
       "      <td>181.720001</td>\n",
       "      <td>8736300</td>\n",
       "      <td>amazon</td>\n",
       "    </tr>\n",
       "  </tbody>\n",
       "</table>\n",
       "</div>"
      ],
      "text/plain": [
       "         Date Source        Open        High         Low       Close  \\\n",
       "0    1/3/2012  yahoo  175.889999  179.479996  175.550003  179.029999   \n",
       "1    1/4/2012  yahoo  179.210007  180.500000  176.070007  177.509995   \n",
       "2    1/5/2012  yahoo  175.940002  178.250000  174.050003  177.610001   \n",
       "3    1/6/2012  yahoo  178.070007  184.649994  177.500000  182.610001   \n",
       "4    1/9/2012  yahoo  182.759995  184.369995  177.000000  178.559998   \n",
       "5   1/10/2012  yahoo  181.100006  182.399994  177.100006  179.339996   \n",
       "6   1/11/2012  yahoo  179.639999  180.770004  178.190002  178.899994   \n",
       "7   1/12/2012  yahoo  179.419998  179.490005  175.750000  175.929993   \n",
       "8   1/13/2012  yahoo  175.809998  178.800003  173.500000  178.419998   \n",
       "9   1/17/2012  yahoo  180.149994  183.300003  178.509995  181.660004   \n",
       "10  1/18/2012  yahoo  181.940002  190.250000  181.119995  189.440002   \n",
       "11  1/19/2012  yahoo  190.880005  195.940002  190.360001  194.449997   \n",
       "12  1/20/2012  yahoo  190.710007  192.899994  189.039993  190.929993   \n",
       "13  1/23/2012  yahoo  190.789993  191.729996  185.229996  186.089996   \n",
       "15  1/25/2012  yahoo  186.990005  188.169998  184.610001  187.800003   \n",
       "16  1/26/2012  yahoo  189.300003  194.850006  188.729996  193.320007   \n",
       "17  1/27/2012  yahoo  193.089996  196.500000  192.330002  195.369995   \n",
       "19  1/31/2012  yahoo  194.000000  195.630005  189.699997  194.440002   \n",
       "20   2/1/2012  yahoo  173.809998  179.949997  172.000000  179.460007   \n",
       "21   2/2/2012  yahoo  179.649994  181.940002  176.800003  181.720001   \n",
       "\n",
       "     Adj Close    Volume   Stock  \n",
       "0   179.029999   5110800  amazon  \n",
       "1   177.509995   4205200  amazon  \n",
       "2   177.610001   3809100  amazon  \n",
       "3   182.610001   7008400  amazon  \n",
       "4   178.559998   5056900  amazon  \n",
       "5   179.339996   3985800  amazon  \n",
       "6   178.899994   3102700  amazon  \n",
       "7   175.929993   5385800  amazon  \n",
       "8   178.419998   4753500  amazon  \n",
       "9   181.660004   5644500  amazon  \n",
       "10  189.440002   7473500  amazon  \n",
       "11  194.449997   7096000  amazon  \n",
       "12  190.929993   5610300  amazon  \n",
       "13  186.089996   4585300  amazon  \n",
       "15  187.800003   4306400  amazon  \n",
       "16  193.320007   5873600  amazon  \n",
       "17  195.369995   4659000  amazon  \n",
       "19  194.440002  12772200  amazon  \n",
       "20  179.460007  21336600  amazon  \n",
       "21  181.720001   8736300  amazon  "
      ]
     },
     "execution_count": 24,
     "metadata": {},
     "output_type": "execute_result"
    }
   ],
   "source": [
    "# Remove all columns that have a constant/single value\n",
    "data.head(20)"
   ]
  },
  {
   "cell_type": "code",
   "execution_count": 27,
   "metadata": {},
   "outputs": [
    {
     "name": "stdout",
     "output_type": "stream",
     "text": [
      "Constant Columns:  ['Source', 'Stock']\n"
     ]
    }
   ],
   "source": [
    "# Find the constant columns in the dataset\n",
    "constant_columns =[]\n",
    "for c in data.columns:\n",
    "    n = len(data[c].unique())\n",
    "    if n==1:\n",
    "        constant_columns.append(c)\n",
    "        \n",
    "print('Constant Columns: ', constant_columns)\n"
   ]
  },
  {
   "cell_type": "code",
   "execution_count": 29,
   "metadata": {},
   "outputs": [
    {
     "data": {
      "text/html": [
       "<div>\n",
       "<style scoped>\n",
       "    .dataframe tbody tr th:only-of-type {\n",
       "        vertical-align: middle;\n",
       "    }\n",
       "\n",
       "    .dataframe tbody tr th {\n",
       "        vertical-align: top;\n",
       "    }\n",
       "\n",
       "    .dataframe thead th {\n",
       "        text-align: right;\n",
       "    }\n",
       "</style>\n",
       "<table border=\"1\" class=\"dataframe\">\n",
       "  <thead>\n",
       "    <tr style=\"text-align: right;\">\n",
       "      <th></th>\n",
       "      <th>Date</th>\n",
       "      <th>Open</th>\n",
       "      <th>High</th>\n",
       "      <th>Low</th>\n",
       "      <th>Close</th>\n",
       "      <th>Adj Close</th>\n",
       "      <th>Volume</th>\n",
       "    </tr>\n",
       "  </thead>\n",
       "  <tbody>\n",
       "    <tr>\n",
       "      <th>0</th>\n",
       "      <td>1/3/2012</td>\n",
       "      <td>175.889999</td>\n",
       "      <td>179.479996</td>\n",
       "      <td>175.550003</td>\n",
       "      <td>179.029999</td>\n",
       "      <td>179.029999</td>\n",
       "      <td>5110800</td>\n",
       "    </tr>\n",
       "    <tr>\n",
       "      <th>1</th>\n",
       "      <td>1/4/2012</td>\n",
       "      <td>179.210007</td>\n",
       "      <td>180.500000</td>\n",
       "      <td>176.070007</td>\n",
       "      <td>177.509995</td>\n",
       "      <td>177.509995</td>\n",
       "      <td>4205200</td>\n",
       "    </tr>\n",
       "    <tr>\n",
       "      <th>2</th>\n",
       "      <td>1/5/2012</td>\n",
       "      <td>175.940002</td>\n",
       "      <td>178.250000</td>\n",
       "      <td>174.050003</td>\n",
       "      <td>177.610001</td>\n",
       "      <td>177.610001</td>\n",
       "      <td>3809100</td>\n",
       "    </tr>\n",
       "    <tr>\n",
       "      <th>3</th>\n",
       "      <td>1/6/2012</td>\n",
       "      <td>178.070007</td>\n",
       "      <td>184.649994</td>\n",
       "      <td>177.500000</td>\n",
       "      <td>182.610001</td>\n",
       "      <td>182.610001</td>\n",
       "      <td>7008400</td>\n",
       "    </tr>\n",
       "    <tr>\n",
       "      <th>4</th>\n",
       "      <td>1/9/2012</td>\n",
       "      <td>182.759995</td>\n",
       "      <td>184.369995</td>\n",
       "      <td>177.000000</td>\n",
       "      <td>178.559998</td>\n",
       "      <td>178.559998</td>\n",
       "      <td>5056900</td>\n",
       "    </tr>\n",
       "    <tr>\n",
       "      <th>...</th>\n",
       "      <td>...</td>\n",
       "      <td>...</td>\n",
       "      <td>...</td>\n",
       "      <td>...</td>\n",
       "      <td>...</td>\n",
       "      <td>...</td>\n",
       "      <td>...</td>\n",
       "    </tr>\n",
       "    <tr>\n",
       "      <th>2237</th>\n",
       "      <td>11/20/2020</td>\n",
       "      <td>3117.020020</td>\n",
       "      <td>3132.889893</td>\n",
       "      <td>3098.050049</td>\n",
       "      <td>3099.399902</td>\n",
       "      <td>3099.399902</td>\n",
       "      <td>3374400</td>\n",
       "    </tr>\n",
       "    <tr>\n",
       "      <th>2238</th>\n",
       "      <td>11/23/2020</td>\n",
       "      <td>3116.699951</td>\n",
       "      <td>3139.750000</td>\n",
       "      <td>3065.459961</td>\n",
       "      <td>3098.389893</td>\n",
       "      <td>3098.389893</td>\n",
       "      <td>4708900</td>\n",
       "    </tr>\n",
       "    <tr>\n",
       "      <th>2239</th>\n",
       "      <td>11/24/2020</td>\n",
       "      <td>3100.500000</td>\n",
       "      <td>3134.250000</td>\n",
       "      <td>3086.260010</td>\n",
       "      <td>3118.060059</td>\n",
       "      <td>3118.060059</td>\n",
       "      <td>3602100</td>\n",
       "    </tr>\n",
       "    <tr>\n",
       "      <th>2240</th>\n",
       "      <td>11/25/2020</td>\n",
       "      <td>3141.870117</td>\n",
       "      <td>3198.000000</td>\n",
       "      <td>3140.260010</td>\n",
       "      <td>3185.070068</td>\n",
       "      <td>3185.070068</td>\n",
       "      <td>3790400</td>\n",
       "    </tr>\n",
       "    <tr>\n",
       "      <th>2241</th>\n",
       "      <td>11/27/2020</td>\n",
       "      <td>3211.260010</td>\n",
       "      <td>3216.189941</td>\n",
       "      <td>3190.050049</td>\n",
       "      <td>3195.340088</td>\n",
       "      <td>3195.340088</td>\n",
       "      <td>2392900</td>\n",
       "    </tr>\n",
       "  </tbody>\n",
       "</table>\n",
       "<p>2228 rows × 7 columns</p>\n",
       "</div>"
      ],
      "text/plain": [
       "            Date         Open         High          Low        Close  \\\n",
       "0       1/3/2012   175.889999   179.479996   175.550003   179.029999   \n",
       "1       1/4/2012   179.210007   180.500000   176.070007   177.509995   \n",
       "2       1/5/2012   175.940002   178.250000   174.050003   177.610001   \n",
       "3       1/6/2012   178.070007   184.649994   177.500000   182.610001   \n",
       "4       1/9/2012   182.759995   184.369995   177.000000   178.559998   \n",
       "...          ...          ...          ...          ...          ...   \n",
       "2237  11/20/2020  3117.020020  3132.889893  3098.050049  3099.399902   \n",
       "2238  11/23/2020  3116.699951  3139.750000  3065.459961  3098.389893   \n",
       "2239  11/24/2020  3100.500000  3134.250000  3086.260010  3118.060059   \n",
       "2240  11/25/2020  3141.870117  3198.000000  3140.260010  3185.070068   \n",
       "2241  11/27/2020  3211.260010  3216.189941  3190.050049  3195.340088   \n",
       "\n",
       "        Adj Close   Volume  \n",
       "0      179.029999  5110800  \n",
       "1      177.509995  4205200  \n",
       "2      177.610001  3809100  \n",
       "3      182.610001  7008400  \n",
       "4      178.559998  5056900  \n",
       "...           ...      ...  \n",
       "2237  3099.399902  3374400  \n",
       "2238  3098.389893  4708900  \n",
       "2239  3118.060059  3602100  \n",
       "2240  3185.070068  3790400  \n",
       "2241  3195.340088  2392900  \n",
       "\n",
       "[2228 rows x 7 columns]"
      ]
     },
     "execution_count": 29,
     "metadata": {},
     "output_type": "execute_result"
    }
   ],
   "source": [
    "#drop the constant columns from the data set\n",
    "data.drop(columns=constant_columns,axis=1, inplace=True)\n",
    "data"
   ]
  },
  {
   "cell_type": "code",
   "execution_count": 30,
   "metadata": {},
   "outputs": [
    {
     "name": "stdout",
     "output_type": "stream",
     "text": [
      "<class 'pandas.core.frame.DataFrame'>\n",
      "Int64Index: 2228 entries, 0 to 2241\n",
      "Data columns (total 7 columns):\n",
      " #   Column     Non-Null Count  Dtype  \n",
      "---  ------     --------------  -----  \n",
      " 0   Date       2228 non-null   object \n",
      " 1   Open       2228 non-null   float64\n",
      " 2   High       2228 non-null   float64\n",
      " 3   Low        2228 non-null   float64\n",
      " 4   Close      2228 non-null   float64\n",
      " 5   Adj Close  2228 non-null   float64\n",
      " 6   Volume     2228 non-null   int64  \n",
      "dtypes: float64(5), int64(1), object(1)\n",
      "memory usage: 139.2+ KB\n"
     ]
    }
   ],
   "source": [
    "# Adding Year, Month, Day columns to the data\n",
    "data.info()"
   ]
  },
  {
   "cell_type": "code",
   "execution_count": 32,
   "metadata": {},
   "outputs": [],
   "source": [
    "dateObject = pd.DatetimeIndex(data['Date'])"
   ]
  },
  {
   "cell_type": "code",
   "execution_count": 34,
   "metadata": {},
   "outputs": [
    {
     "data": {
      "text/plain": [
       "DatetimeIndex(['2012-01-03', '2012-01-04', '2012-01-05', '2012-01-06',\n",
       "               '2012-01-09', '2012-01-10', '2012-01-11', '2012-01-12',\n",
       "               '2012-01-13', '2012-01-17',\n",
       "               ...\n",
       "               '2020-11-13', '2020-11-16', '2020-11-17', '2020-11-18',\n",
       "               '2020-11-19', '2020-11-20', '2020-11-23', '2020-11-24',\n",
       "               '2020-11-25', '2020-11-27'],\n",
       "              dtype='datetime64[ns]', name='Date', length=2228, freq=None)"
      ]
     },
     "execution_count": 34,
     "metadata": {},
     "output_type": "execute_result"
    }
   ],
   "source": [
    "dateObject"
   ]
  },
  {
   "cell_type": "code",
   "execution_count": 35,
   "metadata": {},
   "outputs": [
    {
     "data": {
      "text/html": [
       "<div>\n",
       "<style scoped>\n",
       "    .dataframe tbody tr th:only-of-type {\n",
       "        vertical-align: middle;\n",
       "    }\n",
       "\n",
       "    .dataframe tbody tr th {\n",
       "        vertical-align: top;\n",
       "    }\n",
       "\n",
       "    .dataframe thead th {\n",
       "        text-align: right;\n",
       "    }\n",
       "</style>\n",
       "<table border=\"1\" class=\"dataframe\">\n",
       "  <thead>\n",
       "    <tr style=\"text-align: right;\">\n",
       "      <th></th>\n",
       "      <th>Date</th>\n",
       "      <th>Open</th>\n",
       "      <th>High</th>\n",
       "      <th>Low</th>\n",
       "      <th>Close</th>\n",
       "      <th>Adj Close</th>\n",
       "      <th>Volume</th>\n",
       "      <th>Year</th>\n",
       "      <th>Month</th>\n",
       "      <th>Day</th>\n",
       "    </tr>\n",
       "  </thead>\n",
       "  <tbody>\n",
       "    <tr>\n",
       "      <th>0</th>\n",
       "      <td>1/3/2012</td>\n",
       "      <td>175.889999</td>\n",
       "      <td>179.479996</td>\n",
       "      <td>175.550003</td>\n",
       "      <td>179.029999</td>\n",
       "      <td>179.029999</td>\n",
       "      <td>5110800</td>\n",
       "      <td>2012</td>\n",
       "      <td>1</td>\n",
       "      <td>3</td>\n",
       "    </tr>\n",
       "    <tr>\n",
       "      <th>1</th>\n",
       "      <td>1/4/2012</td>\n",
       "      <td>179.210007</td>\n",
       "      <td>180.500000</td>\n",
       "      <td>176.070007</td>\n",
       "      <td>177.509995</td>\n",
       "      <td>177.509995</td>\n",
       "      <td>4205200</td>\n",
       "      <td>2012</td>\n",
       "      <td>1</td>\n",
       "      <td>4</td>\n",
       "    </tr>\n",
       "    <tr>\n",
       "      <th>2</th>\n",
       "      <td>1/5/2012</td>\n",
       "      <td>175.940002</td>\n",
       "      <td>178.250000</td>\n",
       "      <td>174.050003</td>\n",
       "      <td>177.610001</td>\n",
       "      <td>177.610001</td>\n",
       "      <td>3809100</td>\n",
       "      <td>2012</td>\n",
       "      <td>1</td>\n",
       "      <td>5</td>\n",
       "    </tr>\n",
       "    <tr>\n",
       "      <th>3</th>\n",
       "      <td>1/6/2012</td>\n",
       "      <td>178.070007</td>\n",
       "      <td>184.649994</td>\n",
       "      <td>177.500000</td>\n",
       "      <td>182.610001</td>\n",
       "      <td>182.610001</td>\n",
       "      <td>7008400</td>\n",
       "      <td>2012</td>\n",
       "      <td>1</td>\n",
       "      <td>6</td>\n",
       "    </tr>\n",
       "    <tr>\n",
       "      <th>4</th>\n",
       "      <td>1/9/2012</td>\n",
       "      <td>182.759995</td>\n",
       "      <td>184.369995</td>\n",
       "      <td>177.000000</td>\n",
       "      <td>178.559998</td>\n",
       "      <td>178.559998</td>\n",
       "      <td>5056900</td>\n",
       "      <td>2012</td>\n",
       "      <td>1</td>\n",
       "      <td>9</td>\n",
       "    </tr>\n",
       "    <tr>\n",
       "      <th>...</th>\n",
       "      <td>...</td>\n",
       "      <td>...</td>\n",
       "      <td>...</td>\n",
       "      <td>...</td>\n",
       "      <td>...</td>\n",
       "      <td>...</td>\n",
       "      <td>...</td>\n",
       "      <td>...</td>\n",
       "      <td>...</td>\n",
       "      <td>...</td>\n",
       "    </tr>\n",
       "    <tr>\n",
       "      <th>2237</th>\n",
       "      <td>11/20/2020</td>\n",
       "      <td>3117.020020</td>\n",
       "      <td>3132.889893</td>\n",
       "      <td>3098.050049</td>\n",
       "      <td>3099.399902</td>\n",
       "      <td>3099.399902</td>\n",
       "      <td>3374400</td>\n",
       "      <td>2020</td>\n",
       "      <td>11</td>\n",
       "      <td>20</td>\n",
       "    </tr>\n",
       "    <tr>\n",
       "      <th>2238</th>\n",
       "      <td>11/23/2020</td>\n",
       "      <td>3116.699951</td>\n",
       "      <td>3139.750000</td>\n",
       "      <td>3065.459961</td>\n",
       "      <td>3098.389893</td>\n",
       "      <td>3098.389893</td>\n",
       "      <td>4708900</td>\n",
       "      <td>2020</td>\n",
       "      <td>11</td>\n",
       "      <td>23</td>\n",
       "    </tr>\n",
       "    <tr>\n",
       "      <th>2239</th>\n",
       "      <td>11/24/2020</td>\n",
       "      <td>3100.500000</td>\n",
       "      <td>3134.250000</td>\n",
       "      <td>3086.260010</td>\n",
       "      <td>3118.060059</td>\n",
       "      <td>3118.060059</td>\n",
       "      <td>3602100</td>\n",
       "      <td>2020</td>\n",
       "      <td>11</td>\n",
       "      <td>24</td>\n",
       "    </tr>\n",
       "    <tr>\n",
       "      <th>2240</th>\n",
       "      <td>11/25/2020</td>\n",
       "      <td>3141.870117</td>\n",
       "      <td>3198.000000</td>\n",
       "      <td>3140.260010</td>\n",
       "      <td>3185.070068</td>\n",
       "      <td>3185.070068</td>\n",
       "      <td>3790400</td>\n",
       "      <td>2020</td>\n",
       "      <td>11</td>\n",
       "      <td>25</td>\n",
       "    </tr>\n",
       "    <tr>\n",
       "      <th>2241</th>\n",
       "      <td>11/27/2020</td>\n",
       "      <td>3211.260010</td>\n",
       "      <td>3216.189941</td>\n",
       "      <td>3190.050049</td>\n",
       "      <td>3195.340088</td>\n",
       "      <td>3195.340088</td>\n",
       "      <td>2392900</td>\n",
       "      <td>2020</td>\n",
       "      <td>11</td>\n",
       "      <td>27</td>\n",
       "    </tr>\n",
       "  </tbody>\n",
       "</table>\n",
       "<p>2228 rows × 10 columns</p>\n",
       "</div>"
      ],
      "text/plain": [
       "            Date         Open         High          Low        Close  \\\n",
       "0       1/3/2012   175.889999   179.479996   175.550003   179.029999   \n",
       "1       1/4/2012   179.210007   180.500000   176.070007   177.509995   \n",
       "2       1/5/2012   175.940002   178.250000   174.050003   177.610001   \n",
       "3       1/6/2012   178.070007   184.649994   177.500000   182.610001   \n",
       "4       1/9/2012   182.759995   184.369995   177.000000   178.559998   \n",
       "...          ...          ...          ...          ...          ...   \n",
       "2237  11/20/2020  3117.020020  3132.889893  3098.050049  3099.399902   \n",
       "2238  11/23/2020  3116.699951  3139.750000  3065.459961  3098.389893   \n",
       "2239  11/24/2020  3100.500000  3134.250000  3086.260010  3118.060059   \n",
       "2240  11/25/2020  3141.870117  3198.000000  3140.260010  3185.070068   \n",
       "2241  11/27/2020  3211.260010  3216.189941  3190.050049  3195.340088   \n",
       "\n",
       "        Adj Close   Volume  Year  Month  Day  \n",
       "0      179.029999  5110800  2012      1    3  \n",
       "1      177.509995  4205200  2012      1    4  \n",
       "2      177.610001  3809100  2012      1    5  \n",
       "3      182.610001  7008400  2012      1    6  \n",
       "4      178.559998  5056900  2012      1    9  \n",
       "...           ...      ...   ...    ...  ...  \n",
       "2237  3099.399902  3374400  2020     11   20  \n",
       "2238  3098.389893  4708900  2020     11   23  \n",
       "2239  3118.060059  3602100  2020     11   24  \n",
       "2240  3185.070068  3790400  2020     11   25  \n",
       "2241  3195.340088  2392900  2020     11   27  \n",
       "\n",
       "[2228 rows x 10 columns]"
      ]
     },
     "execution_count": 35,
     "metadata": {},
     "output_type": "execute_result"
    }
   ],
   "source": [
    "data['Year']=dateObject.year\n",
    "data['Month']=dateObject.month\n",
    "data['Day']=dateObject.day\n",
    "data"
   ]
  },
  {
   "cell_type": "code",
   "execution_count": 36,
   "metadata": {},
   "outputs": [
    {
     "data": {
      "text/html": [
       "<div>\n",
       "<style scoped>\n",
       "    .dataframe tbody tr th:only-of-type {\n",
       "        vertical-align: middle;\n",
       "    }\n",
       "\n",
       "    .dataframe tbody tr th {\n",
       "        vertical-align: top;\n",
       "    }\n",
       "\n",
       "    .dataframe thead th {\n",
       "        text-align: right;\n",
       "    }\n",
       "</style>\n",
       "<table border=\"1\" class=\"dataframe\">\n",
       "  <thead>\n",
       "    <tr style=\"text-align: right;\">\n",
       "      <th></th>\n",
       "      <th>Date</th>\n",
       "      <th>Year</th>\n",
       "      <th>Month</th>\n",
       "      <th>Day</th>\n",
       "    </tr>\n",
       "  </thead>\n",
       "  <tbody>\n",
       "    <tr>\n",
       "      <th>0</th>\n",
       "      <td>1/3/2012</td>\n",
       "      <td>2012</td>\n",
       "      <td>1</td>\n",
       "      <td>3</td>\n",
       "    </tr>\n",
       "    <tr>\n",
       "      <th>1</th>\n",
       "      <td>1/4/2012</td>\n",
       "      <td>2012</td>\n",
       "      <td>1</td>\n",
       "      <td>4</td>\n",
       "    </tr>\n",
       "    <tr>\n",
       "      <th>2</th>\n",
       "      <td>1/5/2012</td>\n",
       "      <td>2012</td>\n",
       "      <td>1</td>\n",
       "      <td>5</td>\n",
       "    </tr>\n",
       "    <tr>\n",
       "      <th>3</th>\n",
       "      <td>1/6/2012</td>\n",
       "      <td>2012</td>\n",
       "      <td>1</td>\n",
       "      <td>6</td>\n",
       "    </tr>\n",
       "    <tr>\n",
       "      <th>4</th>\n",
       "      <td>1/9/2012</td>\n",
       "      <td>2012</td>\n",
       "      <td>1</td>\n",
       "      <td>9</td>\n",
       "    </tr>\n",
       "    <tr>\n",
       "      <th>...</th>\n",
       "      <td>...</td>\n",
       "      <td>...</td>\n",
       "      <td>...</td>\n",
       "      <td>...</td>\n",
       "    </tr>\n",
       "    <tr>\n",
       "      <th>2237</th>\n",
       "      <td>11/20/2020</td>\n",
       "      <td>2020</td>\n",
       "      <td>11</td>\n",
       "      <td>20</td>\n",
       "    </tr>\n",
       "    <tr>\n",
       "      <th>2238</th>\n",
       "      <td>11/23/2020</td>\n",
       "      <td>2020</td>\n",
       "      <td>11</td>\n",
       "      <td>23</td>\n",
       "    </tr>\n",
       "    <tr>\n",
       "      <th>2239</th>\n",
       "      <td>11/24/2020</td>\n",
       "      <td>2020</td>\n",
       "      <td>11</td>\n",
       "      <td>24</td>\n",
       "    </tr>\n",
       "    <tr>\n",
       "      <th>2240</th>\n",
       "      <td>11/25/2020</td>\n",
       "      <td>2020</td>\n",
       "      <td>11</td>\n",
       "      <td>25</td>\n",
       "    </tr>\n",
       "    <tr>\n",
       "      <th>2241</th>\n",
       "      <td>11/27/2020</td>\n",
       "      <td>2020</td>\n",
       "      <td>11</td>\n",
       "      <td>27</td>\n",
       "    </tr>\n",
       "  </tbody>\n",
       "</table>\n",
       "<p>2228 rows × 4 columns</p>\n",
       "</div>"
      ],
      "text/plain": [
       "            Date  Year  Month  Day\n",
       "0       1/3/2012  2012      1    3\n",
       "1       1/4/2012  2012      1    4\n",
       "2       1/5/2012  2012      1    5\n",
       "3       1/6/2012  2012      1    6\n",
       "4       1/9/2012  2012      1    9\n",
       "...          ...   ...    ...  ...\n",
       "2237  11/20/2020  2020     11   20\n",
       "2238  11/23/2020  2020     11   23\n",
       "2239  11/24/2020  2020     11   24\n",
       "2240  11/25/2020  2020     11   25\n",
       "2241  11/27/2020  2020     11   27\n",
       "\n",
       "[2228 rows x 4 columns]"
      ]
     },
     "execution_count": 36,
     "metadata": {},
     "output_type": "execute_result"
    }
   ],
   "source": [
    "data[['Date','Year','Month','Day']]"
   ]
  },
  {
   "cell_type": "code",
   "execution_count": 37,
   "metadata": {},
   "outputs": [
    {
     "name": "stdout",
     "output_type": "stream",
     "text": [
      "<class 'pandas.core.frame.DataFrame'>\n",
      "Int64Index: 2228 entries, 0 to 2241\n",
      "Data columns (total 10 columns):\n",
      " #   Column     Non-Null Count  Dtype  \n",
      "---  ------     --------------  -----  \n",
      " 0   Date       2228 non-null   object \n",
      " 1   Open       2228 non-null   float64\n",
      " 2   High       2228 non-null   float64\n",
      " 3   Low        2228 non-null   float64\n",
      " 4   Close      2228 non-null   float64\n",
      " 5   Adj Close  2228 non-null   float64\n",
      " 6   Volume     2228 non-null   int64  \n",
      " 7   Year       2228 non-null   int64  \n",
      " 8   Month      2228 non-null   int64  \n",
      " 9   Day        2228 non-null   int64  \n",
      "dtypes: float64(5), int64(4), object(1)\n",
      "memory usage: 191.5+ KB\n"
     ]
    }
   ],
   "source": [
    "data.info()"
   ]
  },
  {
   "cell_type": "code",
   "execution_count": 38,
   "metadata": {},
   "outputs": [
    {
     "data": {
      "text/html": [
       "<div>\n",
       "<style scoped>\n",
       "    .dataframe tbody tr th:only-of-type {\n",
       "        vertical-align: middle;\n",
       "    }\n",
       "\n",
       "    .dataframe tbody tr th {\n",
       "        vertical-align: top;\n",
       "    }\n",
       "\n",
       "    .dataframe thead th {\n",
       "        text-align: right;\n",
       "    }\n",
       "</style>\n",
       "<table border=\"1\" class=\"dataframe\">\n",
       "  <thead>\n",
       "    <tr style=\"text-align: right;\">\n",
       "      <th></th>\n",
       "      <th>Date</th>\n",
       "      <th>Open</th>\n",
       "      <th>High</th>\n",
       "      <th>Low</th>\n",
       "      <th>Close</th>\n",
       "      <th>Adj Close</th>\n",
       "      <th>Volume</th>\n",
       "      <th>Year</th>\n",
       "      <th>Month</th>\n",
       "      <th>Day</th>\n",
       "    </tr>\n",
       "  </thead>\n",
       "  <tbody>\n",
       "    <tr>\n",
       "      <th>0</th>\n",
       "      <td>1/3/2012</td>\n",
       "      <td>175.889999</td>\n",
       "      <td>179.479996</td>\n",
       "      <td>175.550003</td>\n",
       "      <td>179.029999</td>\n",
       "      <td>179.029999</td>\n",
       "      <td>5110.8</td>\n",
       "      <td>2012</td>\n",
       "      <td>1</td>\n",
       "      <td>3</td>\n",
       "    </tr>\n",
       "    <tr>\n",
       "      <th>1</th>\n",
       "      <td>1/4/2012</td>\n",
       "      <td>179.210007</td>\n",
       "      <td>180.500000</td>\n",
       "      <td>176.070007</td>\n",
       "      <td>177.509995</td>\n",
       "      <td>177.509995</td>\n",
       "      <td>4205.2</td>\n",
       "      <td>2012</td>\n",
       "      <td>1</td>\n",
       "      <td>4</td>\n",
       "    </tr>\n",
       "    <tr>\n",
       "      <th>2</th>\n",
       "      <td>1/5/2012</td>\n",
       "      <td>175.940002</td>\n",
       "      <td>178.250000</td>\n",
       "      <td>174.050003</td>\n",
       "      <td>177.610001</td>\n",
       "      <td>177.610001</td>\n",
       "      <td>3809.1</td>\n",
       "      <td>2012</td>\n",
       "      <td>1</td>\n",
       "      <td>5</td>\n",
       "    </tr>\n",
       "    <tr>\n",
       "      <th>3</th>\n",
       "      <td>1/6/2012</td>\n",
       "      <td>178.070007</td>\n",
       "      <td>184.649994</td>\n",
       "      <td>177.500000</td>\n",
       "      <td>182.610001</td>\n",
       "      <td>182.610001</td>\n",
       "      <td>7008.4</td>\n",
       "      <td>2012</td>\n",
       "      <td>1</td>\n",
       "      <td>6</td>\n",
       "    </tr>\n",
       "    <tr>\n",
       "      <th>4</th>\n",
       "      <td>1/9/2012</td>\n",
       "      <td>182.759995</td>\n",
       "      <td>184.369995</td>\n",
       "      <td>177.000000</td>\n",
       "      <td>178.559998</td>\n",
       "      <td>178.559998</td>\n",
       "      <td>5056.9</td>\n",
       "      <td>2012</td>\n",
       "      <td>1</td>\n",
       "      <td>9</td>\n",
       "    </tr>\n",
       "  </tbody>\n",
       "</table>\n",
       "</div>"
      ],
      "text/plain": [
       "       Date        Open        High         Low       Close   Adj Close  \\\n",
       "0  1/3/2012  175.889999  179.479996  175.550003  179.029999  179.029999   \n",
       "1  1/4/2012  179.210007  180.500000  176.070007  177.509995  177.509995   \n",
       "2  1/5/2012  175.940002  178.250000  174.050003  177.610001  177.610001   \n",
       "3  1/6/2012  178.070007  184.649994  177.500000  182.610001  182.610001   \n",
       "4  1/9/2012  182.759995  184.369995  177.000000  178.559998  178.559998   \n",
       "\n",
       "   Volume  Year  Month  Day  \n",
       "0  5110.8  2012      1    3  \n",
       "1  4205.2  2012      1    4  \n",
       "2  3809.1  2012      1    5  \n",
       "3  7008.4  2012      1    6  \n",
       "4  5056.9  2012      1    9  "
      ]
     },
     "execution_count": 38,
     "metadata": {},
     "output_type": "execute_result"
    }
   ],
   "source": [
    "# Transform the values of volume entries to represent thousands\n",
    "data[['Volume']]=data[['Volume']]/1000\n",
    "data.head()"
   ]
  },
  {
   "cell_type": "markdown",
   "metadata": {},
   "source": [
    "### Use visualization for data analysis"
   ]
  },
  {
   "cell_type": "code",
   "execution_count": 39,
   "metadata": {},
   "outputs": [
    {
     "data": {
      "text/html": [
       "<div>\n",
       "<style scoped>\n",
       "    .dataframe tbody tr th:only-of-type {\n",
       "        vertical-align: middle;\n",
       "    }\n",
       "\n",
       "    .dataframe tbody tr th {\n",
       "        vertical-align: top;\n",
       "    }\n",
       "\n",
       "    .dataframe thead th {\n",
       "        text-align: right;\n",
       "    }\n",
       "</style>\n",
       "<table border=\"1\" class=\"dataframe\">\n",
       "  <thead>\n",
       "    <tr style=\"text-align: right;\">\n",
       "      <th></th>\n",
       "      <th>Volume</th>\n",
       "    </tr>\n",
       "    <tr>\n",
       "      <th>Year</th>\n",
       "      <th></th>\n",
       "    </tr>\n",
       "  </thead>\n",
       "  <tbody>\n",
       "    <tr>\n",
       "      <th>2012</th>\n",
       "      <td>975492.4</td>\n",
       "    </tr>\n",
       "    <tr>\n",
       "      <th>2013</th>\n",
       "      <td>747905.7</td>\n",
       "    </tr>\n",
       "    <tr>\n",
       "      <th>2014</th>\n",
       "      <td>1029066.7</td>\n",
       "    </tr>\n",
       "    <tr>\n",
       "      <th>2015</th>\n",
       "      <td>957102.0</td>\n",
       "    </tr>\n",
       "    <tr>\n",
       "      <th>2016</th>\n",
       "      <td>1038756.3</td>\n",
       "    </tr>\n",
       "    <tr>\n",
       "      <th>2017</th>\n",
       "      <td>882705.4</td>\n",
       "    </tr>\n",
       "    <tr>\n",
       "      <th>2018</th>\n",
       "      <td>1417897.6</td>\n",
       "    </tr>\n",
       "    <tr>\n",
       "      <th>2019</th>\n",
       "      <td>974729.4</td>\n",
       "    </tr>\n",
       "    <tr>\n",
       "      <th>2020</th>\n",
       "      <td>1166035.7</td>\n",
       "    </tr>\n",
       "  </tbody>\n",
       "</table>\n",
       "</div>"
      ],
      "text/plain": [
       "         Volume\n",
       "Year           \n",
       "2012   975492.4\n",
       "2013   747905.7\n",
       "2014  1029066.7\n",
       "2015   957102.0\n",
       "2016  1038756.3\n",
       "2017   882705.4\n",
       "2018  1417897.6\n",
       "2019   974729.4\n",
       "2020  1166035.7"
      ]
     },
     "execution_count": 39,
     "metadata": {},
     "output_type": "execute_result"
    }
   ],
   "source": [
    "# Show the trend of sum Volume over years\n",
    "data[['Year','Volume']].groupby('Year').sum()"
   ]
  },
  {
   "cell_type": "code",
   "execution_count": 41,
   "metadata": {},
   "outputs": [
    {
     "data": {
      "text/plain": [
       "Text(0, 0.5, 'Stock Volume')"
      ]
     },
     "execution_count": 41,
     "metadata": {},
     "output_type": "execute_result"
    },
    {
     "data": {
      "image/png": "[encoded data removed]",
      "text/plain": [
       "<Figure size 576x432 with 1 Axes>"
      ]
     },
     "metadata": {
      "needs_background": "light"
     },
     "output_type": "display_data"
    }
   ],
   "source": [
    "#Plot the data\n",
    "data[['Year','Volume']].groupby('Year').sum().plot(figsize=(8,6), y= 'Volume', fontsize = 12,title='Stock Volume Over Years')\n",
    "plt.ylabel('Stock Volume')"
   ]
  },
  {
   "cell_type": "code",
   "execution_count": 42,
   "metadata": {},
   "outputs": [
    {
     "data": {
      "text/html": [
       "<div>\n",
       "<style scoped>\n",
       "    .dataframe tbody tr th:only-of-type {\n",
       "        vertical-align: middle;\n",
       "    }\n",
       "\n",
       "    .dataframe tbody tr th {\n",
       "        vertical-align: top;\n",
       "    }\n",
       "\n",
       "    .dataframe thead th {\n",
       "        text-align: right;\n",
       "    }\n",
       "</style>\n",
       "<table border=\"1\" class=\"dataframe\">\n",
       "  <thead>\n",
       "    <tr style=\"text-align: right;\">\n",
       "      <th></th>\n",
       "      <th>Volume</th>\n",
       "    </tr>\n",
       "    <tr>\n",
       "      <th>Month</th>\n",
       "      <th></th>\n",
       "    </tr>\n",
       "  </thead>\n",
       "  <tbody>\n",
       "    <tr>\n",
       "      <th>1</th>\n",
       "      <td>884620.5</td>\n",
       "    </tr>\n",
       "    <tr>\n",
       "      <th>2</th>\n",
       "      <td>846030.2</td>\n",
       "    </tr>\n",
       "    <tr>\n",
       "      <th>3</th>\n",
       "      <td>839584.5</td>\n",
       "    </tr>\n",
       "    <tr>\n",
       "      <th>4</th>\n",
       "      <td>890804.0</td>\n",
       "    </tr>\n",
       "    <tr>\n",
       "      <th>5</th>\n",
       "      <td>693382.7</td>\n",
       "    </tr>\n",
       "    <tr>\n",
       "      <th>6</th>\n",
       "      <td>671267.7</td>\n",
       "    </tr>\n",
       "    <tr>\n",
       "      <th>7</th>\n",
       "      <td>792035.2</td>\n",
       "    </tr>\n",
       "    <tr>\n",
       "      <th>8</th>\n",
       "      <td>633655.4</td>\n",
       "    </tr>\n",
       "    <tr>\n",
       "      <th>9</th>\n",
       "      <td>650017.7</td>\n",
       "    </tr>\n",
       "    <tr>\n",
       "      <th>10</th>\n",
       "      <td>897270.2</td>\n",
       "    </tr>\n",
       "    <tr>\n",
       "      <th>11</th>\n",
       "      <td>743073.6</td>\n",
       "    </tr>\n",
       "    <tr>\n",
       "      <th>12</th>\n",
       "      <td>647949.5</td>\n",
       "    </tr>\n",
       "  </tbody>\n",
       "</table>\n",
       "</div>"
      ],
      "text/plain": [
       "         Volume\n",
       "Month          \n",
       "1      884620.5\n",
       "2      846030.2\n",
       "3      839584.5\n",
       "4      890804.0\n",
       "5      693382.7\n",
       "6      671267.7\n",
       "7      792035.2\n",
       "8      633655.4\n",
       "9      650017.7\n",
       "10     897270.2\n",
       "11     743073.6\n",
       "12     647949.5"
      ]
     },
     "execution_count": 42,
     "metadata": {},
     "output_type": "execute_result"
    }
   ],
   "source": [
    "# Show the trend of the stock Volume over months\n",
    "data[['Month','Volume']].groupby('Month').sum()"
   ]
  },
  {
   "cell_type": "code",
   "execution_count": 45,
   "metadata": {},
   "outputs": [
    {
     "data": {
      "text/plain": [
       "Text(0, 0.5, 'Stock Volume')"
      ]
     },
     "execution_count": 45,
     "metadata": {},
     "output_type": "execute_result"
    },
    {
     "data": {
      "image/png": "[encoded data removed]",
      "text/plain": [
       "<Figure size 576x432 with 1 Axes>"
      ]
     },
     "metadata": {
      "needs_background": "light"
     },
     "output_type": "display_data"
    }
   ],
   "source": [
    "#Months\n",
    "data[['Month','Volume']].groupby('Month').sum().plot(figsize=(8,6), y= 'Volume', fontsize = 12,title='Stock Volume Over Months')\n",
    "plt.ylabel('Stock Volume')"
   ]
  },
  {
   "cell_type": "code",
   "execution_count": 47,
   "metadata": {},
   "outputs": [
    {
     "data": {
      "text/plain": [
       "Text(0, 0.5, 'Stock Volume')"
      ]
     },
     "execution_count": 47,
     "metadata": {},
     "output_type": "execute_result"
    },
    {
     "data": {
      "image/png": "[encoded data removed]",
      "text/plain": [
       "<Figure size 576x432 with 1 Axes>"
      ]
     },
     "metadata": {
      "needs_background": "light"
     },
     "output_type": "display_data"
    }
   ],
   "source": [
    "#Days\n",
    "data[['Day','Volume']].groupby('Day').sum().plot(figsize=(8,6), y= 'Volume', fontsize = 12,title='Stock Volume Over Day')\n",
    "plt.ylabel('Stock Volume')"
   ]
  },
  {
   "cell_type": "code",
   "execution_count": 48,
   "metadata": {},
   "outputs": [
    {
     "data": {
      "text/plain": [
       "Text(0, 0.5, 'Stock Volume')"
      ]
     },
     "execution_count": 48,
     "metadata": {},
     "output_type": "execute_result"
    },
    {
     "data": {
      "image/png": "[encoded data removed]",
      "text/plain": [
       "<Figure size 576x432 with 1 Axes>"
      ]
     },
     "metadata": {
      "needs_background": "light"
     },
     "output_type": "display_data"
    }
   ],
   "source": [
    "data[['Day','Volume']].groupby('Day').sum().plot.bar(figsize=(8,6), y= 'Volume', fontsize = 12,title='Stock Volume Over Day')\n",
    "plt.ylabel('Stock Volume')"
   ]
  },
  {
   "cell_type": "code",
   "execution_count": 51,
   "metadata": {},
   "outputs": [
    {
     "data": {
      "text/plain": [
       "<matplotlib.axes._subplots.AxesSubplot at 0x2e6ca1a8788>"
      ]
     },
     "execution_count": 51,
     "metadata": {},
     "output_type": "execute_result"
    },
    {
     "data": {
      "image/png": "[encoded data removed]",
      "text/plain": [
       "<Figure size 720x576 with 1 Axes>"
      ]
     },
     "metadata": {
      "needs_background": "light"
     },
     "output_type": "display_data"
    }
   ],
   "source": [
    "# Show the closing per date\n",
    "data[['Date','Adj Close']].plot(figsize=(10,8),x='Date', y= 'Adj Close', fontsize = 12,title='Closing Price over the past 8 Years')"
   ]
  },
  {
   "cell_type": "code",
   "execution_count": 52,
   "metadata": {},
   "outputs": [
    {
     "name": "stdout",
     "output_type": "stream",
     "text": [
      "<class 'pandas.core.frame.DataFrame'>\n",
      "Int64Index: 2228 entries, 0 to 2241\n",
      "Data columns (total 10 columns):\n",
      " #   Column     Non-Null Count  Dtype  \n",
      "---  ------     --------------  -----  \n",
      " 0   Date       2228 non-null   object \n",
      " 1   Open       2228 non-null   float64\n",
      " 2   High       2228 non-null   float64\n",
      " 3   Low        2228 non-null   float64\n",
      " 4   Close      2228 non-null   float64\n",
      " 5   Adj Close  2228 non-null   float64\n",
      " 6   Volume     2228 non-null   float64\n",
      " 7   Year       2228 non-null   int64  \n",
      " 8   Month      2228 non-null   int64  \n",
      " 9   Day        2228 non-null   int64  \n",
      "dtypes: float64(6), int64(3), object(1)\n",
      "memory usage: 191.5+ KB\n"
     ]
    }
   ],
   "source": [
    "data.info()"
   ]
  },
  {
   "cell_type": "code",
   "execution_count": 56,
   "metadata": {},
   "outputs": [],
   "source": [
    "# Transform the Date columns from object to Datetime Object\n",
    "data['Date']= pd.to_datetime(data['Date'],format='%m/%d/%Y')"
   ]
  },
  {
   "cell_type": "code",
   "execution_count": 55,
   "metadata": {},
   "outputs": [
    {
     "name": "stdout",
     "output_type": "stream",
     "text": [
      "<class 'pandas.core.frame.DataFrame'>\n",
      "Int64Index: 2228 entries, 0 to 2241\n",
      "Data columns (total 10 columns):\n",
      " #   Column     Non-Null Count  Dtype         \n",
      "---  ------     --------------  -----         \n",
      " 0   Date       2228 non-null   datetime64[ns]\n",
      " 1   Open       2228 non-null   float64       \n",
      " 2   High       2228 non-null   float64       \n",
      " 3   Low        2228 non-null   float64       \n",
      " 4   Close      2228 non-null   float64       \n",
      " 5   Adj Close  2228 non-null   float64       \n",
      " 6   Volume     2228 non-null   float64       \n",
      " 7   Year       2228 non-null   int64         \n",
      " 8   Month      2228 non-null   int64         \n",
      " 9   Day        2228 non-null   int64         \n",
      "dtypes: datetime64[ns](1), float64(6), int64(3)\n",
      "memory usage: 191.5 KB\n"
     ]
    }
   ],
   "source": [
    "data.info()"
   ]
  },
  {
   "cell_type": "code",
   "execution_count": 57,
   "metadata": {},
   "outputs": [
    {
     "data": {
      "text/plain": [
       "<matplotlib.axes._subplots.AxesSubplot at 0x2e6ca284388>"
      ]
     },
     "execution_count": 57,
     "metadata": {},
     "output_type": "execute_result"
    },
    {
     "data": {
      "image/png": "[encoded data removed]",
      "text/plain": [
       "<Figure size 720x576 with 1 Axes>"
      ]
     },
     "metadata": {
      "needs_background": "light"
     },
     "output_type": "display_data"
    }
   ],
   "source": [
    "data[['Date','Adj Close']].plot(figsize=(10,8),x='Date', y= 'Adj Close', fontsize = 12,title='Closing Price over the past 8 Years')"
   ]
  },
  {
   "cell_type": "code",
   "execution_count": 58,
   "metadata": {},
   "outputs": [
    {
     "data": {
      "text/plain": [
       "Text(0, 0.5, 'Sum of Adj Close')"
      ]
     },
     "execution_count": 58,
     "metadata": {},
     "output_type": "execute_result"
    },
    {
     "data": {
      "image/png": "[encoded data removed]",
      "text/plain": [
       "<Figure size 720x576 with 1 Axes>"
      ]
     },
     "metadata": {
      "needs_background": "light"
     },
     "output_type": "display_data"
    }
   ],
   "source": [
    "# Show the closing price over months\n",
    "data[['Month','Adj Close']].groupby('Month').sum().plot(figsize=(10,8), y= 'Adj Close', fontsize = 12,\n",
    "                                                        title='Closing Price over months')\n",
    "plt.ylabel('Sum of Adj Close')"
   ]
  },
  {
   "cell_type": "code",
   "execution_count": 59,
   "metadata": {},
   "outputs": [
    {
     "data": {
      "text/plain": [
       "Text(0, 0.5, 'Sum of Adj Close')"
      ]
     },
     "execution_count": 59,
     "metadata": {},
     "output_type": "execute_result"
    },
    {
     "data": {
      "image/png": "[encoded data removed]",
      "text/plain": [
       "<Figure size 720x576 with 1 Axes>"
      ]
     },
     "metadata": {
      "needs_background": "light"
     },
     "output_type": "display_data"
    }
   ],
   "source": [
    "# Show the closing price over years\n",
    "data[['Year','Adj Close']].groupby('Year').sum().plot(figsize=(10,8), y= 'Adj Close', fontsize = 12,\n",
    "                                                        title='Closing Price over years')\n",
    "plt.ylabel('Sum of Adj Close')"
   ]
  },
  {
   "cell_type": "code",
   "execution_count": 60,
   "metadata": {},
   "outputs": [
    {
     "data": {
      "text/plain": [
       "Text(0, 0.5, 'Sum of Adj Close')"
      ]
     },
     "execution_count": 60,
     "metadata": {},
     "output_type": "execute_result"
    },
    {
     "data": {
      "image/png": "[encoded data removed]",
      "text/plain": [
       "<Figure size 720x576 with 1 Axes>"
      ]
     },
     "metadata": {
      "needs_background": "light"
     },
     "output_type": "display_data"
    }
   ],
   "source": [
    "# Show the closing price over days\n",
    "data[['Day','Adj Close']].groupby('Day').sum().plot(figsize=(10,8), y= 'Adj Close', fontsize = 12,\n",
    "                                                        title='Closing Price over days')\n",
    "plt.ylabel('Sum of Adj Close')"
   ]
  },
  {
   "cell_type": "code",
   "execution_count": 62,
   "metadata": {},
   "outputs": [
    {
     "data": {
      "text/plain": [
       "Text(0, 0.5, 'Average of Adj Close')"
      ]
     },
     "execution_count": 62,
     "metadata": {},
     "output_type": "execute_result"
    },
    {
     "data": {
      "image/png": "[encoded data removed]",
      "text/plain": [
       "<Figure size 720x576 with 1 Axes>"
      ]
     },
     "metadata": {
      "needs_background": "light"
     },
     "output_type": "display_data"
    }
   ],
   "source": [
    "# Show the closing price over months\n",
    "data[['Month','Adj Close']].groupby('Month').mean().plot(figsize=(10,8), y= 'Adj Close', fontsize = 12,\n",
    "                                                        title='Average Closing Price over months')\n",
    "plt.ylabel('Average of Adj Close')"
   ]
  },
  {
   "cell_type": "code",
   "execution_count": 63,
   "metadata": {},
   "outputs": [
    {
     "data": {
      "text/plain": [
       "Text(0, 0.5, 'Average of Adj Close')"
      ]
     },
     "execution_count": 63,
     "metadata": {},
     "output_type": "execute_result"
    },
    {
     "data": {
      "image/png": "[encoded data removed]",
      "text/plain": [
       "<Figure size 720x576 with 1 Axes>"
      ]
     },
     "metadata": {
      "needs_background": "light"
     },
     "output_type": "display_data"
    }
   ],
   "source": [
    "data[['Day','Adj Close']].groupby('Day').mean().plot(figsize=(10,8), y= 'Adj Close', fontsize = 12,\n",
    "                                                        title='Average Closing Price over days')\n",
    "plt.ylabel('Average of Adj Close')"
   ]
  },
  {
   "cell_type": "code",
   "execution_count": 64,
   "metadata": {},
   "outputs": [
    {
     "data": {
      "text/plain": [
       "1236"
      ]
     },
     "execution_count": 64,
     "metadata": {},
     "output_type": "execute_result"
    }
   ],
   "source": [
    "#Plot the Adj Close prices that are smaller than the Open prices after 2015\n",
    "filter1=data[data['Year']>2015]\n",
    "len(filter1)"
   ]
  },
  {
   "cell_type": "code",
   "execution_count": 66,
   "metadata": {},
   "outputs": [
    {
     "data": {
      "text/plain": [
       "1105"
      ]
     },
     "execution_count": 66,
     "metadata": {},
     "output_type": "execute_result"
    }
   ],
   "source": [
    "filter2=data[data['Adj Close'] < data['Open']]\n",
    "len(filter2)"
   ]
  },
  {
   "cell_type": "code",
   "execution_count": 67,
   "metadata": {},
   "outputs": [
    {
     "data": {
      "text/html": [
       "<div>\n",
       "<style scoped>\n",
       "    .dataframe tbody tr th:only-of-type {\n",
       "        vertical-align: middle;\n",
       "    }\n",
       "\n",
       "    .dataframe tbody tr th {\n",
       "        vertical-align: top;\n",
       "    }\n",
       "\n",
       "    .dataframe thead th {\n",
       "        text-align: right;\n",
       "    }\n",
       "</style>\n",
       "<table border=\"1\" class=\"dataframe\">\n",
       "  <thead>\n",
       "    <tr style=\"text-align: right;\">\n",
       "      <th></th>\n",
       "      <th>Adj Close</th>\n",
       "      <th>Open</th>\n",
       "    </tr>\n",
       "  </thead>\n",
       "  <tbody>\n",
       "    <tr>\n",
       "      <th>1</th>\n",
       "      <td>177.509995</td>\n",
       "      <td>179.210007</td>\n",
       "    </tr>\n",
       "    <tr>\n",
       "      <th>4</th>\n",
       "      <td>178.559998</td>\n",
       "      <td>182.759995</td>\n",
       "    </tr>\n",
       "    <tr>\n",
       "      <th>5</th>\n",
       "      <td>179.339996</td>\n",
       "      <td>181.100006</td>\n",
       "    </tr>\n",
       "    <tr>\n",
       "      <th>6</th>\n",
       "      <td>178.899994</td>\n",
       "      <td>179.639999</td>\n",
       "    </tr>\n",
       "    <tr>\n",
       "      <th>7</th>\n",
       "      <td>175.929993</td>\n",
       "      <td>179.419998</td>\n",
       "    </tr>\n",
       "    <tr>\n",
       "      <th>...</th>\n",
       "      <td>...</td>\n",
       "      <td>...</td>\n",
       "    </tr>\n",
       "    <tr>\n",
       "      <th>2234</th>\n",
       "      <td>3135.659912</td>\n",
       "      <td>3183.540039</td>\n",
       "    </tr>\n",
       "    <tr>\n",
       "      <th>2235</th>\n",
       "      <td>3105.459961</td>\n",
       "      <td>3134.000000</td>\n",
       "    </tr>\n",
       "    <tr>\n",
       "      <th>2237</th>\n",
       "      <td>3099.399902</td>\n",
       "      <td>3117.020020</td>\n",
       "    </tr>\n",
       "    <tr>\n",
       "      <th>2238</th>\n",
       "      <td>3098.389893</td>\n",
       "      <td>3116.699951</td>\n",
       "    </tr>\n",
       "    <tr>\n",
       "      <th>2241</th>\n",
       "      <td>3195.340088</td>\n",
       "      <td>3211.260010</td>\n",
       "    </tr>\n",
       "  </tbody>\n",
       "</table>\n",
       "<p>1105 rows × 2 columns</p>\n",
       "</div>"
      ],
      "text/plain": [
       "        Adj Close         Open\n",
       "1      177.509995   179.210007\n",
       "4      178.559998   182.759995\n",
       "5      179.339996   181.100006\n",
       "6      178.899994   179.639999\n",
       "7      175.929993   179.419998\n",
       "...           ...          ...\n",
       "2234  3135.659912  3183.540039\n",
       "2235  3105.459961  3134.000000\n",
       "2237  3099.399902  3117.020020\n",
       "2238  3098.389893  3116.699951\n",
       "2241  3195.340088  3211.260010\n",
       "\n",
       "[1105 rows x 2 columns]"
      ]
     },
     "execution_count": 67,
     "metadata": {},
     "output_type": "execute_result"
    }
   ],
   "source": [
    "filter2[['Adj Close','Open']]"
   ]
  },
  {
   "cell_type": "code",
   "execution_count": 68,
   "metadata": {},
   "outputs": [
    {
     "data": {
      "text/plain": [
       "0       False\n",
       "1       False\n",
       "2       False\n",
       "3       False\n",
       "4       False\n",
       "        ...  \n",
       "2237     True\n",
       "2238     True\n",
       "2239     True\n",
       "2240     True\n",
       "2241     True\n",
       "Name: Year, Length: 2228, dtype: bool"
      ]
     },
     "execution_count": 68,
     "metadata": {},
     "output_type": "execute_result"
    }
   ],
   "source": [
    "filter1 = data['Year']>2015\n",
    "filter1"
   ]
  },
  {
   "cell_type": "code",
   "execution_count": 70,
   "metadata": {},
   "outputs": [
    {
     "data": {
      "text/plain": [
       "0       False\n",
       "1        True\n",
       "2       False\n",
       "3       False\n",
       "4        True\n",
       "        ...  \n",
       "2237     True\n",
       "2238     True\n",
       "2239    False\n",
       "2240    False\n",
       "2241     True\n",
       "Length: 2228, dtype: bool"
      ]
     },
     "execution_count": 70,
     "metadata": {},
     "output_type": "execute_result"
    }
   ],
   "source": [
    "filter2=data['Adj Close']<data['Open']\n",
    "filter2"
   ]
  },
  {
   "cell_type": "code",
   "execution_count": 71,
   "metadata": {},
   "outputs": [
    {
     "data": {
      "text/html": [
       "<div>\n",
       "<style scoped>\n",
       "    .dataframe tbody tr th:only-of-type {\n",
       "        vertical-align: middle;\n",
       "    }\n",
       "\n",
       "    .dataframe tbody tr th {\n",
       "        vertical-align: top;\n",
       "    }\n",
       "\n",
       "    .dataframe thead th {\n",
       "        text-align: right;\n",
       "    }\n",
       "</style>\n",
       "<table border=\"1\" class=\"dataframe\">\n",
       "  <thead>\n",
       "    <tr style=\"text-align: right;\">\n",
       "      <th></th>\n",
       "      <th>Date</th>\n",
       "      <th>Open</th>\n",
       "      <th>High</th>\n",
       "      <th>Low</th>\n",
       "      <th>Close</th>\n",
       "      <th>Adj Close</th>\n",
       "      <th>Volume</th>\n",
       "      <th>Year</th>\n",
       "      <th>Month</th>\n",
       "      <th>Day</th>\n",
       "    </tr>\n",
       "  </thead>\n",
       "  <tbody>\n",
       "    <tr>\n",
       "      <th>1006</th>\n",
       "      <td>2016-01-04</td>\n",
       "      <td>656.289978</td>\n",
       "      <td>657.719971</td>\n",
       "      <td>627.510010</td>\n",
       "      <td>636.989990</td>\n",
       "      <td>636.989990</td>\n",
       "      <td>9314.5</td>\n",
       "      <td>2016</td>\n",
       "      <td>1</td>\n",
       "      <td>4</td>\n",
       "    </tr>\n",
       "    <tr>\n",
       "      <th>1007</th>\n",
       "      <td>2016-01-05</td>\n",
       "      <td>646.859985</td>\n",
       "      <td>646.909973</td>\n",
       "      <td>627.650024</td>\n",
       "      <td>633.789978</td>\n",
       "      <td>633.789978</td>\n",
       "      <td>5822.6</td>\n",
       "      <td>2016</td>\n",
       "      <td>1</td>\n",
       "      <td>5</td>\n",
       "    </tr>\n",
       "    <tr>\n",
       "      <th>1009</th>\n",
       "      <td>2016-01-07</td>\n",
       "      <td>621.799988</td>\n",
       "      <td>630.000000</td>\n",
       "      <td>605.210022</td>\n",
       "      <td>607.940002</td>\n",
       "      <td>607.940002</td>\n",
       "      <td>7074.9</td>\n",
       "      <td>2016</td>\n",
       "      <td>1</td>\n",
       "      <td>7</td>\n",
       "    </tr>\n",
       "    <tr>\n",
       "      <th>1010</th>\n",
       "      <td>2016-01-08</td>\n",
       "      <td>619.659973</td>\n",
       "      <td>624.140015</td>\n",
       "      <td>606.000000</td>\n",
       "      <td>607.049988</td>\n",
       "      <td>607.049988</td>\n",
       "      <td>5512.9</td>\n",
       "      <td>2016</td>\n",
       "      <td>1</td>\n",
       "      <td>8</td>\n",
       "    </tr>\n",
       "    <tr>\n",
       "      <th>1012</th>\n",
       "      <td>2016-01-12</td>\n",
       "      <td>625.250000</td>\n",
       "      <td>625.989990</td>\n",
       "      <td>612.239990</td>\n",
       "      <td>617.890015</td>\n",
       "      <td>617.890015</td>\n",
       "      <td>4724.1</td>\n",
       "      <td>2016</td>\n",
       "      <td>1</td>\n",
       "      <td>12</td>\n",
       "    </tr>\n",
       "    <tr>\n",
       "      <th>...</th>\n",
       "      <td>...</td>\n",
       "      <td>...</td>\n",
       "      <td>...</td>\n",
       "      <td>...</td>\n",
       "      <td>...</td>\n",
       "      <td>...</td>\n",
       "      <td>...</td>\n",
       "      <td>...</td>\n",
       "      <td>...</td>\n",
       "      <td>...</td>\n",
       "    </tr>\n",
       "    <tr>\n",
       "      <th>2234</th>\n",
       "      <td>2020-11-17</td>\n",
       "      <td>3183.540039</td>\n",
       "      <td>3189.250000</td>\n",
       "      <td>3135.260010</td>\n",
       "      <td>3135.659912</td>\n",
       "      <td>3135.659912</td>\n",
       "      <td>3444.7</td>\n",
       "      <td>2020</td>\n",
       "      <td>11</td>\n",
       "      <td>17</td>\n",
       "    </tr>\n",
       "    <tr>\n",
       "      <th>2235</th>\n",
       "      <td>2020-11-18</td>\n",
       "      <td>3134.000000</td>\n",
       "      <td>3140.000000</td>\n",
       "      <td>3105.100098</td>\n",
       "      <td>3105.459961</td>\n",
       "      <td>3105.459961</td>\n",
       "      <td>2916.8</td>\n",
       "      <td>2020</td>\n",
       "      <td>11</td>\n",
       "      <td>18</td>\n",
       "    </tr>\n",
       "    <tr>\n",
       "      <th>2237</th>\n",
       "      <td>2020-11-20</td>\n",
       "      <td>3117.020020</td>\n",
       "      <td>3132.889893</td>\n",
       "      <td>3098.050049</td>\n",
       "      <td>3099.399902</td>\n",
       "      <td>3099.399902</td>\n",
       "      <td>3374.4</td>\n",
       "      <td>2020</td>\n",
       "      <td>11</td>\n",
       "      <td>20</td>\n",
       "    </tr>\n",
       "    <tr>\n",
       "      <th>2238</th>\n",
       "      <td>2020-11-23</td>\n",
       "      <td>3116.699951</td>\n",
       "      <td>3139.750000</td>\n",
       "      <td>3065.459961</td>\n",
       "      <td>3098.389893</td>\n",
       "      <td>3098.389893</td>\n",
       "      <td>4708.9</td>\n",
       "      <td>2020</td>\n",
       "      <td>11</td>\n",
       "      <td>23</td>\n",
       "    </tr>\n",
       "    <tr>\n",
       "      <th>2241</th>\n",
       "      <td>2020-11-27</td>\n",
       "      <td>3211.260010</td>\n",
       "      <td>3216.189941</td>\n",
       "      <td>3190.050049</td>\n",
       "      <td>3195.340088</td>\n",
       "      <td>3195.340088</td>\n",
       "      <td>2392.9</td>\n",
       "      <td>2020</td>\n",
       "      <td>11</td>\n",
       "      <td>27</td>\n",
       "    </tr>\n",
       "  </tbody>\n",
       "</table>\n",
       "<p>616 rows × 10 columns</p>\n",
       "</div>"
      ],
      "text/plain": [
       "           Date         Open         High          Low        Close  \\\n",
       "1006 2016-01-04   656.289978   657.719971   627.510010   636.989990   \n",
       "1007 2016-01-05   646.859985   646.909973   627.650024   633.789978   \n",
       "1009 2016-01-07   621.799988   630.000000   605.210022   607.940002   \n",
       "1010 2016-01-08   619.659973   624.140015   606.000000   607.049988   \n",
       "1012 2016-01-12   625.250000   625.989990   612.239990   617.890015   \n",
       "...         ...          ...          ...          ...          ...   \n",
       "2234 2020-11-17  3183.540039  3189.250000  3135.260010  3135.659912   \n",
       "2235 2020-11-18  3134.000000  3140.000000  3105.100098  3105.459961   \n",
       "2237 2020-11-20  3117.020020  3132.889893  3098.050049  3099.399902   \n",
       "2238 2020-11-23  3116.699951  3139.750000  3065.459961  3098.389893   \n",
       "2241 2020-11-27  3211.260010  3216.189941  3190.050049  3195.340088   \n",
       "\n",
       "        Adj Close  Volume  Year  Month  Day  \n",
       "1006   636.989990  9314.5  2016      1    4  \n",
       "1007   633.789978  5822.6  2016      1    5  \n",
       "1009   607.940002  7074.9  2016      1    7  \n",
       "1010   607.049988  5512.9  2016      1    8  \n",
       "1012   617.890015  4724.1  2016      1   12  \n",
       "...           ...     ...   ...    ...  ...  \n",
       "2234  3135.659912  3444.7  2020     11   17  \n",
       "2235  3105.459961  2916.8  2020     11   18  \n",
       "2237  3099.399902  3374.4  2020     11   20  \n",
       "2238  3098.389893  4708.9  2020     11   23  \n",
       "2241  3195.340088  2392.9  2020     11   27  \n",
       "\n",
       "[616 rows x 10 columns]"
      ]
     },
     "execution_count": 71,
     "metadata": {},
     "output_type": "execute_result"
    }
   ],
   "source": [
    "result=data[filter1 & filter2]\n",
    "result"
   ]
  },
  {
   "cell_type": "code",
   "execution_count": 72,
   "metadata": {},
   "outputs": [
    {
     "data": {
      "text/plain": [
       "Text(0, 0.5, 'Number of stocks')"
      ]
     },
     "execution_count": 72,
     "metadata": {},
     "output_type": "execute_result"
    },
    {
     "data": {
      "image/png": "[encoded data removed]",
      "text/plain": [
       "<Figure size 720x576 with 1 Axes>"
      ]
     },
     "metadata": {
      "needs_background": "light"
     },
     "output_type": "display_data"
    }
   ],
   "source": [
    "result[['Year','Adj Close']].groupby('Year').count().plot.bar(figsize=(10,8),y='Adj Close', fontsize=12, legend = True,\n",
    "                                        title='Number of stocks where the closing price is smaller than the open price')\n",
    "plt.ylabel('Number of stocks')"
   ]
  },
  {
   "cell_type": "code",
   "execution_count": 74,
   "metadata": {},
   "outputs": [
    {
     "data": {
      "text/plain": [
       "18.191868975649413"
      ]
     },
     "execution_count": 74,
     "metadata": {},
     "output_type": "execute_result"
    }
   ],
   "source": [
    "result['Open'].mean() - result['Adj Close'].mean()"
   ]
  },
  {
   "cell_type": "code",
   "execution_count": 75,
   "metadata": {},
   "outputs": [
    {
     "data": {
      "text/plain": [
       "Text(0, 0.5, 'Number of stocks')"
      ]
     },
     "execution_count": 75,
     "metadata": {},
     "output_type": "execute_result"
    },
    {
     "data": {
      "image/png": "[encoded data removed]",
      "text/plain": [
       "<Figure size 720x576 with 1 Axes>"
      ]
     },
     "metadata": {
      "needs_background": "light"
     },
     "output_type": "display_data"
    }
   ],
   "source": [
    "result[['Month','Adj Close']].groupby('Month').count().plot.bar(figsize=(10,8),y='Adj Close', fontsize=12, legend = True,\n",
    "                                        title='Number of stocks where the closing price is smaller than the open price')\n",
    "plt.ylabel('Number of stocks')"
   ]
  },
  {
   "cell_type": "code",
   "execution_count": 76,
   "metadata": {},
   "outputs": [
    {
     "data": {
      "text/html": [
       "<div>\n",
       "<style scoped>\n",
       "    .dataframe tbody tr th:only-of-type {\n",
       "        vertical-align: middle;\n",
       "    }\n",
       "\n",
       "    .dataframe tbody tr th {\n",
       "        vertical-align: top;\n",
       "    }\n",
       "\n",
       "    .dataframe thead th {\n",
       "        text-align: right;\n",
       "    }\n",
       "</style>\n",
       "<table border=\"1\" class=\"dataframe\">\n",
       "  <thead>\n",
       "    <tr style=\"text-align: right;\">\n",
       "      <th></th>\n",
       "      <th>Adj Close</th>\n",
       "    </tr>\n",
       "    <tr>\n",
       "      <th>Month</th>\n",
       "      <th></th>\n",
       "    </tr>\n",
       "  </thead>\n",
       "  <tbody>\n",
       "    <tr>\n",
       "      <th>1</th>\n",
       "      <td>50</td>\n",
       "    </tr>\n",
       "    <tr>\n",
       "      <th>2</th>\n",
       "      <td>48</td>\n",
       "    </tr>\n",
       "    <tr>\n",
       "      <th>3</th>\n",
       "      <td>48</td>\n",
       "    </tr>\n",
       "    <tr>\n",
       "      <th>4</th>\n",
       "      <td>53</td>\n",
       "    </tr>\n",
       "    <tr>\n",
       "      <th>5</th>\n",
       "      <td>43</td>\n",
       "    </tr>\n",
       "    <tr>\n",
       "      <th>6</th>\n",
       "      <td>47</td>\n",
       "    </tr>\n",
       "    <tr>\n",
       "      <th>7</th>\n",
       "      <td>50</td>\n",
       "    </tr>\n",
       "    <tr>\n",
       "      <th>8</th>\n",
       "      <td>61</td>\n",
       "    </tr>\n",
       "    <tr>\n",
       "      <th>9</th>\n",
       "      <td>52</td>\n",
       "    </tr>\n",
       "    <tr>\n",
       "      <th>10</th>\n",
       "      <td>64</td>\n",
       "    </tr>\n",
       "    <tr>\n",
       "      <th>11</th>\n",
       "      <td>53</td>\n",
       "    </tr>\n",
       "    <tr>\n",
       "      <th>12</th>\n",
       "      <td>47</td>\n",
       "    </tr>\n",
       "  </tbody>\n",
       "</table>\n",
       "</div>"
      ],
      "text/plain": [
       "       Adj Close\n",
       "Month           \n",
       "1             50\n",
       "2             48\n",
       "3             48\n",
       "4             53\n",
       "5             43\n",
       "6             47\n",
       "7             50\n",
       "8             61\n",
       "9             52\n",
       "10            64\n",
       "11            53\n",
       "12            47"
      ]
     },
     "execution_count": 76,
     "metadata": {},
     "output_type": "execute_result"
    }
   ],
   "source": [
    "result[['Month','Adj Close']].groupby('Month').count()"
   ]
  },
  {
   "cell_type": "code",
   "execution_count": 77,
   "metadata": {},
   "outputs": [
    {
     "data": {
      "text/plain": [
       "Text(0, 0.5, 'Number of stocks')"
      ]
     },
     "execution_count": 77,
     "metadata": {},
     "output_type": "execute_result"
    },
    {
     "data": {
      "image/png": "[encoded data removed]",
      "text/plain": [
       "<Figure size 720x576 with 1 Axes>"
      ]
     },
     "metadata": {
      "needs_background": "light"
     },
     "output_type": "display_data"
    }
   ],
   "source": [
    "result[['Day','Adj Close']].groupby('Day').count().plot.bar(figsize=(10,8),y='Adj Close', fontsize=12, legend = True,\n",
    "                                        title='Number of stocks where the closing price is smaller than the open price')\n",
    "plt.ylabel('Number of stocks')"
   ]
  },
  {
   "cell_type": "code",
   "execution_count": 88,
   "metadata": {},
   "outputs": [
    {
     "data": {
      "text/plain": [
       "Text(0, 0.5, 'Prices of Stock')"
      ]
     },
     "execution_count": 88,
     "metadata": {},
     "output_type": "execute_result"
    },
    {
     "data": {
      "image/png": "[encoded data removed]",
      "text/plain": [
       "<Figure size 720x576 with 1 Axes>"
      ]
     },
     "metadata": {
      "needs_background": "light"
     },
     "output_type": "display_data"
    }
   ],
   "source": [
    "#Compare the open and ADJ close values/prices\n",
    "data[['Year','Open','Adj Close']].groupby('Year').sum().plot(figsize=(10,8),y=['Open','Adj Close'], fontsize=12, legend = True,\n",
    "                                        title='Compare the Open and Adj close stocks values/prices')\n",
    "plt.ylabel('Prices of Stock')"
   ]
  },
  {
   "cell_type": "code",
   "execution_count": 87,
   "metadata": {},
   "outputs": [
    {
     "data": {
      "text/plain": [
       "Text(0, 0.5, 'Prices of Stock')"
      ]
     },
     "execution_count": 87,
     "metadata": {},
     "output_type": "execute_result"
    },
    {
     "data": {
      "image/png": "[encoded data removed]",
      "text/plain": [
       "<Figure size 720x576 with 1 Axes>"
      ]
     },
     "metadata": {
      "needs_background": "light"
     },
     "output_type": "display_data"
    }
   ],
   "source": [
    "data[['Month','Open','Adj Close']].groupby('Month').sum().plot(figsize=(10,8),y=['Open','Adj Close'], fontsize=12, legend = True,\n",
    "                                        title='Compare the Open and Adj close stocks values/prices')\n",
    "plt.ylabel('Prices of Stock')"
   ]
  },
  {
   "cell_type": "code",
   "execution_count": 89,
   "metadata": {},
   "outputs": [
    {
     "data": {
      "text/plain": [
       "Text(0, 0.5, 'Average Prices of Stock')"
      ]
     },
     "execution_count": 89,
     "metadata": {},
     "output_type": "execute_result"
    },
    {
     "data": {
      "image/png": "[encoded data removed]",
      "text/plain": [
       "<Figure size 720x576 with 1 Axes>"
      ]
     },
     "metadata": {
      "needs_background": "light"
     },
     "output_type": "display_data"
    }
   ],
   "source": [
    "data[['Month','High','Low']].groupby('Month').mean().plot(figsize=(10,8),y=['High','Low'], fontsize=12, legend = True,\n",
    "                                        title='Compare the average of High and low stocks values/prices')\n",
    "plt.ylabel('Average Prices of Stock')"
   ]
  },
  {
   "cell_type": "code",
   "execution_count": 90,
   "metadata": {},
   "outputs": [
    {
     "data": {
      "text/plain": [
       "Text(0, 0.5, 'Average Prices of Stock')"
      ]
     },
     "execution_count": 90,
     "metadata": {},
     "output_type": "execute_result"
    },
    {
     "data": {
      "image/png": "[encoded data removed]",
      "text/plain": [
       "<Figure size 720x576 with 1 Axes>"
      ]
     },
     "metadata": {
      "needs_background": "light"
     },
     "output_type": "display_data"
    }
   ],
   "source": [
    "data[['Year','High','Low']].groupby('Year').mean().plot(figsize=(10,8),y=['High','Low'], fontsize=12, legend = True,\n",
    "                                        title='Compare the average of High and low stocks values/prices')\n",
    "plt.ylabel('Average Prices of Stock')"
   ]
  },
  {
   "cell_type": "code",
   "execution_count": 91,
   "metadata": {},
   "outputs": [
    {
     "data": {
      "text/plain": [
       "Text(0, 0.5, 'Average Prices of Stock')"
      ]
     },
     "execution_count": 91,
     "metadata": {},
     "output_type": "execute_result"
    },
    {
     "data": {
      "image/png": "[encoded data removed]",
      "text/plain": [
       "<Figure size 720x576 with 1 Axes>"
      ]
     },
     "metadata": {
      "needs_background": "light"
     },
     "output_type": "display_data"
    }
   ],
   "source": [
    "# Compare tthe average High, Low, and Adj Close values/prices over months\n",
    "data[['Month','High','Low','Adj Close']].groupby('Month').mean().plot(figsize=(10,8),y=['High','Low', 'Adj Close'], fontsize=12, legend = True,\n",
    "                                        title='Compare the average of High and low and Adj Close stocks values/prices')\n",
    "plt.ylabel('Average Prices of Stock')"
   ]
  },
  {
   "cell_type": "code",
   "execution_count": 92,
   "metadata": {},
   "outputs": [
    {
     "data": {
      "text/plain": [
       "Text(0, 0.5, 'Average Prices of Stock')"
      ]
     },
     "execution_count": 92,
     "metadata": {},
     "output_type": "execute_result"
    },
    {
     "data": {
      "image/png": "[encoded data removed]",
      "text/plain": [
       "<Figure size 720x576 with 1 Axes>"
      ]
     },
     "metadata": {
      "needs_background": "light"
     },
     "output_type": "display_data"
    }
   ],
   "source": [
    "data[['Year','High','Low','Adj Close']].groupby('Year').mean().plot(figsize=(10,8),y=['High','Low', 'Adj Close'], fontsize=12, legend = True,\n",
    "                                        title='Compare the average of High and low and Adj Close stocks values/prices')\n",
    "plt.ylabel('Average Prices of Stock')"
   ]
  },
  {
   "cell_type": "code",
   "execution_count": 94,
   "metadata": {},
   "outputs": [
    {
     "data": {
      "text/plain": [
       "Text(0, 0.5, 'Average Prices of Stock')"
      ]
     },
     "execution_count": 94,
     "metadata": {},
     "output_type": "execute_result"
    },
    {
     "data": {
      "image/png": "[encoded data removed]",
      "text/plain": [
       "<Figure size 720x576 with 1 Axes>"
      ]
     },
     "metadata": {
      "needs_background": "light"
     },
     "output_type": "display_data"
    }
   ],
   "source": [
    "data[['Date','High','Low','Adj Close']].plot(figsize=(10,8), x='Date',y=['High','Low', 'Adj Close'], fontsize=12, legend = True,\n",
    "                                        title='Compare the average of High and low and Adj Close stocks values/prices')\n",
    "plt.ylabel('Average Prices of Stock')"
   ]
  },
  {
   "cell_type": "code",
   "execution_count": 96,
   "metadata": {},
   "outputs": [
    {
     "data": {
      "text/html": [
       "<div>\n",
       "<style scoped>\n",
       "    .dataframe tbody tr th:only-of-type {\n",
       "        vertical-align: middle;\n",
       "    }\n",
       "\n",
       "    .dataframe tbody tr th {\n",
       "        vertical-align: top;\n",
       "    }\n",
       "\n",
       "    .dataframe thead th {\n",
       "        text-align: right;\n",
       "    }\n",
       "</style>\n",
       "<table border=\"1\" class=\"dataframe\">\n",
       "  <thead>\n",
       "    <tr style=\"text-align: right;\">\n",
       "      <th></th>\n",
       "      <th>Volume</th>\n",
       "    </tr>\n",
       "    <tr>\n",
       "      <th>Month</th>\n",
       "      <th></th>\n",
       "    </tr>\n",
       "  </thead>\n",
       "  <tbody>\n",
       "    <tr>\n",
       "      <th>1</th>\n",
       "      <td>884620.5</td>\n",
       "    </tr>\n",
       "    <tr>\n",
       "      <th>2</th>\n",
       "      <td>846030.2</td>\n",
       "    </tr>\n",
       "    <tr>\n",
       "      <th>3</th>\n",
       "      <td>839584.5</td>\n",
       "    </tr>\n",
       "    <tr>\n",
       "      <th>4</th>\n",
       "      <td>890804.0</td>\n",
       "    </tr>\n",
       "    <tr>\n",
       "      <th>5</th>\n",
       "      <td>693382.7</td>\n",
       "    </tr>\n",
       "    <tr>\n",
       "      <th>6</th>\n",
       "      <td>671267.7</td>\n",
       "    </tr>\n",
       "    <tr>\n",
       "      <th>7</th>\n",
       "      <td>792035.2</td>\n",
       "    </tr>\n",
       "    <tr>\n",
       "      <th>8</th>\n",
       "      <td>633655.4</td>\n",
       "    </tr>\n",
       "    <tr>\n",
       "      <th>9</th>\n",
       "      <td>650017.7</td>\n",
       "    </tr>\n",
       "    <tr>\n",
       "      <th>10</th>\n",
       "      <td>897270.2</td>\n",
       "    </tr>\n",
       "    <tr>\n",
       "      <th>11</th>\n",
       "      <td>743073.6</td>\n",
       "    </tr>\n",
       "    <tr>\n",
       "      <th>12</th>\n",
       "      <td>647949.5</td>\n",
       "    </tr>\n",
       "  </tbody>\n",
       "</table>\n",
       "</div>"
      ],
      "text/plain": [
       "         Volume\n",
       "Month          \n",
       "1      884620.5\n",
       "2      846030.2\n",
       "3      839584.5\n",
       "4      890804.0\n",
       "5      693382.7\n",
       "6      671267.7\n",
       "7      792035.2\n",
       "8      633655.4\n",
       "9      650017.7\n",
       "10     897270.2\n",
       "11     743073.6\n",
       "12     647949.5"
      ]
     },
     "execution_count": 96,
     "metadata": {},
     "output_type": "execute_result"
    }
   ],
   "source": [
    "# Query the data to answer some questions\n",
    "# Find the months that have the highest and lowest number of volume\n",
    "r = data[['Month','Volume']].groupby('Month').sum()\n",
    "r"
   ]
  },
  {
   "cell_type": "code",
   "execution_count": 97,
   "metadata": {},
   "outputs": [
    {
     "name": "stdout",
     "output_type": "stream",
     "text": [
      "The month with the lowest volume 8 Volume 633655399.9999995\n",
      "The month with the highest volume 10 Volume 897270199.9999995\n"
     ]
    }
   ],
   "source": [
    "print('The month with the lowest volume', r.idxmin()[0], 'Volume', r.min()[0]* 1000)\n",
    "print('The month with the highest volume', r.idxmax()[0], 'Volume', r.max()[0]* 1000)"
   ]
  },
  {
   "cell_type": "code",
   "execution_count": 99,
   "metadata": {},
   "outputs": [
    {
     "data": {
      "text/html": [
       "<div>\n",
       "<style scoped>\n",
       "    .dataframe tbody tr th:only-of-type {\n",
       "        vertical-align: middle;\n",
       "    }\n",
       "\n",
       "    .dataframe tbody tr th {\n",
       "        vertical-align: top;\n",
       "    }\n",
       "\n",
       "    .dataframe thead th {\n",
       "        text-align: right;\n",
       "    }\n",
       "</style>\n",
       "<table border=\"1\" class=\"dataframe\">\n",
       "  <thead>\n",
       "    <tr style=\"text-align: right;\">\n",
       "      <th></th>\n",
       "      <th>Date</th>\n",
       "      <th>Open</th>\n",
       "      <th>High</th>\n",
       "      <th>Low</th>\n",
       "      <th>Close</th>\n",
       "      <th>Adj Close</th>\n",
       "      <th>Volume</th>\n",
       "      <th>Year</th>\n",
       "      <th>Month</th>\n",
       "      <th>Day</th>\n",
       "    </tr>\n",
       "  </thead>\n",
       "  <tbody>\n",
       "    <tr>\n",
       "      <th>0</th>\n",
       "      <td>2012-01-03</td>\n",
       "      <td>175.889999</td>\n",
       "      <td>179.479996</td>\n",
       "      <td>175.550003</td>\n",
       "      <td>179.029999</td>\n",
       "      <td>179.029999</td>\n",
       "      <td>5110.8</td>\n",
       "      <td>2012</td>\n",
       "      <td>1</td>\n",
       "      <td>3</td>\n",
       "    </tr>\n",
       "    <tr>\n",
       "      <th>1</th>\n",
       "      <td>2012-01-04</td>\n",
       "      <td>179.210007</td>\n",
       "      <td>180.500000</td>\n",
       "      <td>176.070007</td>\n",
       "      <td>177.509995</td>\n",
       "      <td>177.509995</td>\n",
       "      <td>4205.2</td>\n",
       "      <td>2012</td>\n",
       "      <td>1</td>\n",
       "      <td>4</td>\n",
       "    </tr>\n",
       "    <tr>\n",
       "      <th>2</th>\n",
       "      <td>2012-01-05</td>\n",
       "      <td>175.940002</td>\n",
       "      <td>178.250000</td>\n",
       "      <td>174.050003</td>\n",
       "      <td>177.610001</td>\n",
       "      <td>177.610001</td>\n",
       "      <td>3809.1</td>\n",
       "      <td>2012</td>\n",
       "      <td>1</td>\n",
       "      <td>5</td>\n",
       "    </tr>\n",
       "    <tr>\n",
       "      <th>3</th>\n",
       "      <td>2012-01-06</td>\n",
       "      <td>178.070007</td>\n",
       "      <td>184.649994</td>\n",
       "      <td>177.500000</td>\n",
       "      <td>182.610001</td>\n",
       "      <td>182.610001</td>\n",
       "      <td>7008.4</td>\n",
       "      <td>2012</td>\n",
       "      <td>1</td>\n",
       "      <td>6</td>\n",
       "    </tr>\n",
       "    <tr>\n",
       "      <th>4</th>\n",
       "      <td>2012-01-09</td>\n",
       "      <td>182.759995</td>\n",
       "      <td>184.369995</td>\n",
       "      <td>177.000000</td>\n",
       "      <td>178.559998</td>\n",
       "      <td>178.559998</td>\n",
       "      <td>5056.9</td>\n",
       "      <td>2012</td>\n",
       "      <td>1</td>\n",
       "      <td>9</td>\n",
       "    </tr>\n",
       "    <tr>\n",
       "      <th>...</th>\n",
       "      <td>...</td>\n",
       "      <td>...</td>\n",
       "      <td>...</td>\n",
       "      <td>...</td>\n",
       "      <td>...</td>\n",
       "      <td>...</td>\n",
       "      <td>...</td>\n",
       "      <td>...</td>\n",
       "      <td>...</td>\n",
       "      <td>...</td>\n",
       "    </tr>\n",
       "    <tr>\n",
       "      <th>2237</th>\n",
       "      <td>2020-11-20</td>\n",
       "      <td>3117.020020</td>\n",
       "      <td>3132.889893</td>\n",
       "      <td>3098.050049</td>\n",
       "      <td>3099.399902</td>\n",
       "      <td>3099.399902</td>\n",
       "      <td>3374.4</td>\n",
       "      <td>2020</td>\n",
       "      <td>11</td>\n",
       "      <td>20</td>\n",
       "    </tr>\n",
       "    <tr>\n",
       "      <th>2238</th>\n",
       "      <td>2020-11-23</td>\n",
       "      <td>3116.699951</td>\n",
       "      <td>3139.750000</td>\n",
       "      <td>3065.459961</td>\n",
       "      <td>3098.389893</td>\n",
       "      <td>3098.389893</td>\n",
       "      <td>4708.9</td>\n",
       "      <td>2020</td>\n",
       "      <td>11</td>\n",
       "      <td>23</td>\n",
       "    </tr>\n",
       "    <tr>\n",
       "      <th>2239</th>\n",
       "      <td>2020-11-24</td>\n",
       "      <td>3100.500000</td>\n",
       "      <td>3134.250000</td>\n",
       "      <td>3086.260010</td>\n",
       "      <td>3118.060059</td>\n",
       "      <td>3118.060059</td>\n",
       "      <td>3602.1</td>\n",
       "      <td>2020</td>\n",
       "      <td>11</td>\n",
       "      <td>24</td>\n",
       "    </tr>\n",
       "    <tr>\n",
       "      <th>2240</th>\n",
       "      <td>2020-11-25</td>\n",
       "      <td>3141.870117</td>\n",
       "      <td>3198.000000</td>\n",
       "      <td>3140.260010</td>\n",
       "      <td>3185.070068</td>\n",
       "      <td>3185.070068</td>\n",
       "      <td>3790.4</td>\n",
       "      <td>2020</td>\n",
       "      <td>11</td>\n",
       "      <td>25</td>\n",
       "    </tr>\n",
       "    <tr>\n",
       "      <th>2241</th>\n",
       "      <td>2020-11-27</td>\n",
       "      <td>3211.260010</td>\n",
       "      <td>3216.189941</td>\n",
       "      <td>3190.050049</td>\n",
       "      <td>3195.340088</td>\n",
       "      <td>3195.340088</td>\n",
       "      <td>2392.9</td>\n",
       "      <td>2020</td>\n",
       "      <td>11</td>\n",
       "      <td>27</td>\n",
       "    </tr>\n",
       "  </tbody>\n",
       "</table>\n",
       "<p>2228 rows × 10 columns</p>\n",
       "</div>"
      ],
      "text/plain": [
       "           Date         Open         High          Low        Close  \\\n",
       "0    2012-01-03   175.889999   179.479996   175.550003   179.029999   \n",
       "1    2012-01-04   179.210007   180.500000   176.070007   177.509995   \n",
       "2    2012-01-05   175.940002   178.250000   174.050003   177.610001   \n",
       "3    2012-01-06   178.070007   184.649994   177.500000   182.610001   \n",
       "4    2012-01-09   182.759995   184.369995   177.000000   178.559998   \n",
       "...         ...          ...          ...          ...          ...   \n",
       "2237 2020-11-20  3117.020020  3132.889893  3098.050049  3099.399902   \n",
       "2238 2020-11-23  3116.699951  3139.750000  3065.459961  3098.389893   \n",
       "2239 2020-11-24  3100.500000  3134.250000  3086.260010  3118.060059   \n",
       "2240 2020-11-25  3141.870117  3198.000000  3140.260010  3185.070068   \n",
       "2241 2020-11-27  3211.260010  3216.189941  3190.050049  3195.340088   \n",
       "\n",
       "        Adj Close  Volume  Year  Month  Day  \n",
       "0      179.029999  5110.8  2012      1    3  \n",
       "1      177.509995  4205.2  2012      1    4  \n",
       "2      177.610001  3809.1  2012      1    5  \n",
       "3      182.610001  7008.4  2012      1    6  \n",
       "4      178.559998  5056.9  2012      1    9  \n",
       "...           ...     ...   ...    ...  ...  \n",
       "2237  3099.399902  3374.4  2020     11   20  \n",
       "2238  3098.389893  4708.9  2020     11   23  \n",
       "2239  3118.060059  3602.1  2020     11   24  \n",
       "2240  3185.070068  3790.4  2020     11   25  \n",
       "2241  3195.340088  2392.9  2020     11   27  \n",
       "\n",
       "[2228 rows x 10 columns]"
      ]
     },
     "execution_count": 99,
     "metadata": {},
     "output_type": "execute_result"
    }
   ],
   "source": [
    "# Find the dates that have the highest and lowest number of volume\n",
    "data"
   ]
  },
  {
   "cell_type": "code",
   "execution_count": 101,
   "metadata": {},
   "outputs": [
    {
     "name": "stdout",
     "output_type": "stream",
     "text": [
      "The row with the lowest Volume is  2007\n",
      "The row with the highest Volume is  773\n"
     ]
    }
   ],
   "source": [
    "r = data['Volume']\n",
    "s=r.idxmin()\n",
    "l=r.idxmax()\n",
    "print('The row with the lowest Volume is ', s)\n",
    "print('The row with the highest Volume is ', l)"
   ]
  },
  {
   "cell_type": "code",
   "execution_count": 105,
   "metadata": {},
   "outputs": [
    {
     "name": "stdout",
     "output_type": "stream",
     "text": [
      "The Date with the lowest volume 2020-01-15 Volume 2896.6\n",
      "The Date with the highest volume 2015-02-20 Volume 3258.0\n"
     ]
    }
   ],
   "source": [
    "print('The Date with the lowest volume', data.iloc[s]['Date'].date(), 'Volume', data.iloc[s]['Volume'])\n",
    "print('The Date with the highest volume', data.iloc[l]['Date'].date(), 'Volume', data.iloc[l]['Volume'])"
   ]
  },
  {
   "cell_type": "code",
   "execution_count": 107,
   "metadata": {},
   "outputs": [
    {
     "data": {
      "text/html": [
       "<div>\n",
       "<style scoped>\n",
       "    .dataframe tbody tr th:only-of-type {\n",
       "        vertical-align: middle;\n",
       "    }\n",
       "\n",
       "    .dataframe tbody tr th {\n",
       "        vertical-align: top;\n",
       "    }\n",
       "\n",
       "    .dataframe thead th {\n",
       "        text-align: right;\n",
       "    }\n",
       "</style>\n",
       "<table border=\"1\" class=\"dataframe\">\n",
       "  <thead>\n",
       "    <tr style=\"text-align: right;\">\n",
       "      <th></th>\n",
       "      <th></th>\n",
       "      <th>Adj Close</th>\n",
       "    </tr>\n",
       "    <tr>\n",
       "      <th>Month</th>\n",
       "      <th>Day</th>\n",
       "      <th></th>\n",
       "    </tr>\n",
       "  </thead>\n",
       "  <tbody>\n",
       "    <tr>\n",
       "      <th rowspan=\"20\" valign=\"top\">1</th>\n",
       "      <th>2</th>\n",
       "      <td>931.658335</td>\n",
       "    </tr>\n",
       "    <tr>\n",
       "      <th>3</th>\n",
       "      <td>881.009992</td>\n",
       "    </tr>\n",
       "    <tr>\n",
       "      <th>4</th>\n",
       "      <td>769.301659</td>\n",
       "    </tr>\n",
       "    <tr>\n",
       "      <th>5</th>\n",
       "      <td>624.636002</td>\n",
       "    </tr>\n",
       "    <tr>\n",
       "      <th>6</th>\n",
       "      <td>700.508339</td>\n",
       "    </tr>\n",
       "    <tr>\n",
       "      <th>7</th>\n",
       "      <td>851.536667</td>\n",
       "    </tr>\n",
       "    <tr>\n",
       "      <th>8</th>\n",
       "      <td>910.175703</td>\n",
       "    </tr>\n",
       "    <tr>\n",
       "      <th>9</th>\n",
       "      <td>844.117504</td>\n",
       "    </tr>\n",
       "    <tr>\n",
       "      <th>10</th>\n",
       "      <td>918.849997</td>\n",
       "    </tr>\n",
       "    <tr>\n",
       "      <th>11</th>\n",
       "      <td>796.806687</td>\n",
       "    </tr>\n",
       "    <tr>\n",
       "      <th>12</th>\n",
       "      <td>640.813996</td>\n",
       "    </tr>\n",
       "    <tr>\n",
       "      <th>13</th>\n",
       "      <td>692.398344</td>\n",
       "    </tr>\n",
       "    <tr>\n",
       "      <th>14</th>\n",
       "      <td>840.531652</td>\n",
       "    </tr>\n",
       "    <tr>\n",
       "      <th>15</th>\n",
       "      <td>843.580012</td>\n",
       "    </tr>\n",
       "    <tr>\n",
       "      <th>16</th>\n",
       "      <td>970.341654</td>\n",
       "    </tr>\n",
       "    <tr>\n",
       "      <th>17</th>\n",
       "      <td>930.629988</td>\n",
       "    </tr>\n",
       "    <tr>\n",
       "      <th>18</th>\n",
       "      <td>851.711975</td>\n",
       "    </tr>\n",
       "    <tr>\n",
       "      <th>19</th>\n",
       "      <td>718.137478</td>\n",
       "    </tr>\n",
       "    <tr>\n",
       "      <th>20</th>\n",
       "      <td>465.117508</td>\n",
       "    </tr>\n",
       "    <tr>\n",
       "      <th>21</th>\n",
       "      <td>792.830002</td>\n",
       "    </tr>\n",
       "  </tbody>\n",
       "</table>\n",
       "</div>"
      ],
      "text/plain": [
       "            Adj Close\n",
       "Month Day            \n",
       "1     2    931.658335\n",
       "      3    881.009992\n",
       "      4    769.301659\n",
       "      5    624.636002\n",
       "      6    700.508339\n",
       "      7    851.536667\n",
       "      8    910.175703\n",
       "      9    844.117504\n",
       "      10   918.849997\n",
       "      11   796.806687\n",
       "      12   640.813996\n",
       "      13   692.398344\n",
       "      14   840.531652\n",
       "      15   843.580012\n",
       "      16   970.341654\n",
       "      17   930.629988\n",
       "      18   851.711975\n",
       "      19   718.137478\n",
       "      20   465.117508\n",
       "      21   792.830002"
      ]
     },
     "execution_count": 107,
     "metadata": {},
     "output_type": "execute_result"
    }
   ],
   "source": [
    "# Find the month and day that has the lowest closing average price\n",
    "r = data[['Month','Day','Adj Close']].groupby(['Month','Day']).mean()\n",
    "r.head(20)"
   ]
  },
  {
   "cell_type": "code",
   "execution_count": 109,
   "metadata": {},
   "outputs": [
    {
     "name": "stdout",
     "output_type": "stream",
     "text": [
      "The month and day with the lowest closing price is  (2, 29) The average adj closing price is  366.105011\n"
     ]
    }
   ],
   "source": [
    "print('The month and day with the lowest closing price is ',r.idxmin()[0], 'The average adj closing price is ',r.min()[0])"
   ]
  },
  {
   "cell_type": "code",
   "execution_count": 110,
   "metadata": {},
   "outputs": [
    {
     "data": {
      "text/plain": [
       "Date         2020-09-02 00:00:00\n",
       "Open                        3547\n",
       "High                     3552.25\n",
       "Low                      3486.69\n",
       "Close                    3531.45\n",
       "Adj Close                3531.45\n",
       "Volume                    3931.5\n",
       "Year                        2020\n",
       "Month                          9\n",
       "Day                            2\n",
       "Name: 2181, dtype: object"
      ]
     },
     "execution_count": 110,
     "metadata": {},
     "output_type": "execute_result"
    }
   ],
   "source": [
    "# Show the closing, open, year, month, day, of the highest volume\n",
    "r = data.loc[data['Adj Close'].idxmax()]\n",
    "r"
   ]
  },
  {
   "cell_type": "code",
   "execution_count": 112,
   "metadata": {},
   "outputs": [
    {
     "name": "stdout",
     "output_type": "stream",
     "text": [
      "Closing:  3531.4499509999996  Open:  3547.0  Year:  2020  Month:  9  Day:  2  Volume:  3931.5\n"
     ]
    }
   ],
   "source": [
    "print('Closing: ', r['Close'],' Open: ', r['Open'], ' Year: ', r['Year'], ' Month: ', r['Month'], ' Day: ', r['Day'],  ' Volume: ', r['Volume'])"
   ]
  },
  {
   "cell_type": "code",
   "execution_count": null,
   "metadata": {},
   "outputs": [],
   "source": []
  }
 ],
 "metadata": {
  "kernelspec": {
   "display_name": "Python 3.7 - default",
   "language": "python",
   "name": "py37_default"
  },
  "language_info": {
   "codemirror_mode": {
    "name": "ipython",
    "version": 3
   },
   "file_extension": ".py",
   "mimetype": "text/x-python",
   "name": "python",
   "nbconvert_exporter": "python",
   "pygments_lexer": "ipython3",
   "version": "3.7.7"
  }
 },
 "nbformat": 4,
 "nbformat_minor": 4
}
